{
  "cells": [
    {
      "cell_type": "markdown",
      "metadata": {
        "id": "view-in-github",
        "colab_type": "text"
      },
      "source": [
        "<a href=\"https://colab.research.google.com/github/tomcaputo/aws_product_embeddings/blob/main/Product_Embeddings_Two_Tower.ipynb\" target=\"_parent\"><img src=\"https://colab.research.google.com/assets/colab-badge.svg\" alt=\"Open In Colab\"/></a>"
      ]
    },
    {
      "cell_type": "markdown",
      "metadata": {
        "id": "5eNE2Zkgma_i"
      },
      "source": [
        "# Building Product Embedddings with the Amazon 2023\n",
        "\n",
        "Questions\n",
        "- How to handle max length of context window\n",
        "\n",
        "\n",
        "\n",
        "TODO\n",
        "- MLFlow logging\n",
        "- test and train script\n",
        "- How to update model with new users with transfer learning\n",
        "\n",
        "\n",
        "\n",
        "## Retrieval - algorithm scales well: focused on recall\n",
        "Supervised\n",
        "- Matrix Factorization\n",
        "- NCF\n",
        "- Two Towers\n",
        "\n",
        "Embed --> VectorDB --> Retrieve via similarity\n",
        "\n",
        "## Reranker -- employ more sophisticed models: focused on precision\n",
        "- Transformer\n",
        "- XGBoost\n",
        "\n"
      ]
    },
    {
      "cell_type": "markdown",
      "metadata": {
        "id": "CaB2M07aS9Q2"
      },
      "source": [
        "## Notebook Setup"
      ]
    },
    {
      "cell_type": "code",
      "execution_count": null,
      "metadata": {
        "colab": {
          "base_uri": "https://localhost:8080/"
        },
        "id": "wctsY8uqmS0L",
        "outputId": "50e83314-5a8c-4615-8ce4-237987ec2648"
      },
      "outputs": [
        {
          "output_type": "stream",
          "name": "stdout",
          "text": [
            "Collecting faiss-gpu\n",
            "  Downloading faiss_gpu-1.7.2-cp310-cp310-manylinux_2_17_x86_64.manylinux2014_x86_64.whl.metadata (1.4 kB)\n",
            "Downloading faiss_gpu-1.7.2-cp310-cp310-manylinux_2_17_x86_64.manylinux2014_x86_64.whl (85.5 MB)\n",
            "\u001b[2K   \u001b[90m━━━━━━━━━━━━━━━━━━━━━━━━━━━━━━━━━━━━━━━━\u001b[0m \u001b[32m85.5/85.5 MB\u001b[0m \u001b[31m24.1 MB/s\u001b[0m eta \u001b[36m0:00:00\u001b[0m\n",
            "\u001b[?25hInstalling collected packages: faiss-gpu\n",
            "Successfully installed faiss-gpu-1.7.2\n",
            "Collecting datasets\n",
            "  Downloading datasets-2.21.0-py3-none-any.whl.metadata (21 kB)\n",
            "Requirement already satisfied: filelock in /usr/local/lib/python3.10/dist-packages (from datasets) (3.15.4)\n",
            "Requirement already satisfied: numpy>=1.17 in /usr/local/lib/python3.10/dist-packages (from datasets) (1.26.4)\n",
            "Collecting pyarrow>=15.0.0 (from datasets)\n",
            "  Downloading pyarrow-17.0.0-cp310-cp310-manylinux_2_28_x86_64.whl.metadata (3.3 kB)\n",
            "Collecting dill<0.3.9,>=0.3.0 (from datasets)\n",
            "  Downloading dill-0.3.8-py3-none-any.whl.metadata (10 kB)\n",
            "Requirement already satisfied: pandas in /usr/local/lib/python3.10/dist-packages (from datasets) (2.1.4)\n",
            "Requirement already satisfied: requests>=2.32.2 in /usr/local/lib/python3.10/dist-packages (from datasets) (2.32.3)\n",
            "Requirement already satisfied: tqdm>=4.66.3 in /usr/local/lib/python3.10/dist-packages (from datasets) (4.66.5)\n",
            "Collecting xxhash (from datasets)\n",
            "  Downloading xxhash-3.5.0-cp310-cp310-manylinux_2_17_x86_64.manylinux2014_x86_64.whl.metadata (12 kB)\n",
            "Collecting multiprocess (from datasets)\n",
            "  Downloading multiprocess-0.70.16-py310-none-any.whl.metadata (7.2 kB)\n",
            "Requirement already satisfied: fsspec<=2024.6.1,>=2023.1.0 in /usr/local/lib/python3.10/dist-packages (from fsspec[http]<=2024.6.1,>=2023.1.0->datasets) (2024.6.1)\n",
            "Requirement already satisfied: aiohttp in /usr/local/lib/python3.10/dist-packages (from datasets) (3.10.5)\n",
            "Requirement already satisfied: huggingface-hub>=0.21.2 in /usr/local/lib/python3.10/dist-packages (from datasets) (0.23.5)\n",
            "Requirement already satisfied: packaging in /usr/local/lib/python3.10/dist-packages (from datasets) (24.1)\n",
            "Requirement already satisfied: pyyaml>=5.1 in /usr/local/lib/python3.10/dist-packages (from datasets) (6.0.2)\n",
            "Requirement already satisfied: aiohappyeyeballs>=2.3.0 in /usr/local/lib/python3.10/dist-packages (from aiohttp->datasets) (2.4.0)\n",
            "Requirement already satisfied: aiosignal>=1.1.2 in /usr/local/lib/python3.10/dist-packages (from aiohttp->datasets) (1.3.1)\n",
            "Requirement already satisfied: attrs>=17.3.0 in /usr/local/lib/python3.10/dist-packages (from aiohttp->datasets) (24.2.0)\n",
            "Requirement already satisfied: frozenlist>=1.1.1 in /usr/local/lib/python3.10/dist-packages (from aiohttp->datasets) (1.4.1)\n",
            "Requirement already satisfied: multidict<7.0,>=4.5 in /usr/local/lib/python3.10/dist-packages (from aiohttp->datasets) (6.0.5)\n",
            "Requirement already satisfied: yarl<2.0,>=1.0 in /usr/local/lib/python3.10/dist-packages (from aiohttp->datasets) (1.9.4)\n",
            "Requirement already satisfied: async-timeout<5.0,>=4.0 in /usr/local/lib/python3.10/dist-packages (from aiohttp->datasets) (4.0.3)\n",
            "Requirement already satisfied: typing-extensions>=3.7.4.3 in /usr/local/lib/python3.10/dist-packages (from huggingface-hub>=0.21.2->datasets) (4.12.2)\n",
            "Requirement already satisfied: charset-normalizer<4,>=2 in /usr/local/lib/python3.10/dist-packages (from requests>=2.32.2->datasets) (3.3.2)\n",
            "Requirement already satisfied: idna<4,>=2.5 in /usr/local/lib/python3.10/dist-packages (from requests>=2.32.2->datasets) (3.8)\n",
            "Requirement already satisfied: urllib3<3,>=1.21.1 in /usr/local/lib/python3.10/dist-packages (from requests>=2.32.2->datasets) (2.0.7)\n",
            "Requirement already satisfied: certifi>=2017.4.17 in /usr/local/lib/python3.10/dist-packages (from requests>=2.32.2->datasets) (2024.7.4)\n",
            "Requirement already satisfied: python-dateutil>=2.8.2 in /usr/local/lib/python3.10/dist-packages (from pandas->datasets) (2.8.2)\n",
            "Requirement already satisfied: pytz>=2020.1 in /usr/local/lib/python3.10/dist-packages (from pandas->datasets) (2024.1)\n",
            "Requirement already satisfied: tzdata>=2022.1 in /usr/local/lib/python3.10/dist-packages (from pandas->datasets) (2024.1)\n",
            "Requirement already satisfied: six>=1.5 in /usr/local/lib/python3.10/dist-packages (from python-dateutil>=2.8.2->pandas->datasets) (1.16.0)\n",
            "Downloading datasets-2.21.0-py3-none-any.whl (527 kB)\n",
            "\u001b[2K   \u001b[90m━━━━━━━━━━━━━━━━━━━━━━━━━━━━━━━━━━━━━━━━\u001b[0m \u001b[32m527.3/527.3 kB\u001b[0m \u001b[31m19.4 MB/s\u001b[0m eta \u001b[36m0:00:00\u001b[0m\n",
            "\u001b[?25hDownloading dill-0.3.8-py3-none-any.whl (116 kB)\n",
            "\u001b[2K   \u001b[90m━━━━━━━━━━━━━━━━━━━━━━━━━━━━━━━━━━━━━━━━\u001b[0m \u001b[32m116.3/116.3 kB\u001b[0m \u001b[31m11.8 MB/s\u001b[0m eta \u001b[36m0:00:00\u001b[0m\n",
            "\u001b[?25hDownloading pyarrow-17.0.0-cp310-cp310-manylinux_2_28_x86_64.whl (39.9 MB)\n",
            "\u001b[2K   \u001b[90m━━━━━━━━━━━━━━━━━━━━━━━━━━━━━━━━━━━━━━━━\u001b[0m \u001b[32m39.9/39.9 MB\u001b[0m \u001b[31m48.7 MB/s\u001b[0m eta \u001b[36m0:00:00\u001b[0m\n",
            "\u001b[?25hDownloading multiprocess-0.70.16-py310-none-any.whl (134 kB)\n",
            "\u001b[2K   \u001b[90m━━━━━━━━━━━━━━━━━━━━━━━━━━━━━━━━━━━━━━━━\u001b[0m \u001b[32m134.8/134.8 kB\u001b[0m \u001b[31m9.0 MB/s\u001b[0m eta \u001b[36m0:00:00\u001b[0m\n",
            "\u001b[?25hDownloading xxhash-3.5.0-cp310-cp310-manylinux_2_17_x86_64.manylinux2014_x86_64.whl (194 kB)\n",
            "\u001b[2K   \u001b[90m━━━━━━━━━━━━━━━━━━━━━━━━━━━━━━━━━━━━━━━━\u001b[0m \u001b[32m194.1/194.1 kB\u001b[0m \u001b[31m14.7 MB/s\u001b[0m eta \u001b[36m0:00:00\u001b[0m\n",
            "\u001b[?25hInstalling collected packages: xxhash, pyarrow, dill, multiprocess, datasets\n",
            "  Attempting uninstall: pyarrow\n",
            "    Found existing installation: pyarrow 14.0.2\n",
            "    Uninstalling pyarrow-14.0.2:\n",
            "      Successfully uninstalled pyarrow-14.0.2\n",
            "\u001b[31mERROR: pip's dependency resolver does not currently take into account all the packages that are installed. This behaviour is the source of the following dependency conflicts.\n",
            "cudf-cu12 24.4.1 requires pyarrow<15.0.0a0,>=14.0.1, but you have pyarrow 17.0.0 which is incompatible.\n",
            "ibis-framework 8.0.0 requires pyarrow<16,>=2, but you have pyarrow 17.0.0 which is incompatible.\u001b[0m\u001b[31m\n",
            "\u001b[0mSuccessfully installed datasets-2.21.0 dill-0.3.8 multiprocess-0.70.16 pyarrow-17.0.0 xxhash-3.5.0\n",
            "Collecting pytorch-lightning\n",
            "  Downloading pytorch_lightning-2.4.0-py3-none-any.whl.metadata (21 kB)\n",
            "Requirement already satisfied: torch>=2.1.0 in /usr/local/lib/python3.10/dist-packages (from pytorch-lightning) (2.4.0+cu121)\n",
            "Requirement already satisfied: tqdm>=4.57.0 in /usr/local/lib/python3.10/dist-packages (from pytorch-lightning) (4.66.5)\n",
            "Requirement already satisfied: PyYAML>=5.4 in /usr/local/lib/python3.10/dist-packages (from pytorch-lightning) (6.0.2)\n",
            "Requirement already satisfied: fsspec>=2022.5.0 in /usr/local/lib/python3.10/dist-packages (from fsspec[http]>=2022.5.0->pytorch-lightning) (2024.6.1)\n",
            "Collecting torchmetrics>=0.7.0 (from pytorch-lightning)\n",
            "  Downloading torchmetrics-1.4.1-py3-none-any.whl.metadata (20 kB)\n",
            "Requirement already satisfied: packaging>=20.0 in /usr/local/lib/python3.10/dist-packages (from pytorch-lightning) (24.1)\n",
            "Requirement already satisfied: typing-extensions>=4.4.0 in /usr/local/lib/python3.10/dist-packages (from pytorch-lightning) (4.12.2)\n",
            "Collecting lightning-utilities>=0.10.0 (from pytorch-lightning)\n",
            "  Downloading lightning_utilities-0.11.6-py3-none-any.whl.metadata (5.2 kB)\n",
            "Requirement already satisfied: aiohttp!=4.0.0a0,!=4.0.0a1 in /usr/local/lib/python3.10/dist-packages (from fsspec[http]>=2022.5.0->pytorch-lightning) (3.10.5)\n",
            "Requirement already satisfied: setuptools in /usr/local/lib/python3.10/dist-packages (from lightning-utilities>=0.10.0->pytorch-lightning) (71.0.4)\n",
            "Requirement already satisfied: filelock in /usr/local/lib/python3.10/dist-packages (from torch>=2.1.0->pytorch-lightning) (3.15.4)\n",
            "Requirement already satisfied: sympy in /usr/local/lib/python3.10/dist-packages (from torch>=2.1.0->pytorch-lightning) (1.13.2)\n",
            "Requirement already satisfied: networkx in /usr/local/lib/python3.10/dist-packages (from torch>=2.1.0->pytorch-lightning) (3.3)\n",
            "Requirement already satisfied: jinja2 in /usr/local/lib/python3.10/dist-packages (from torch>=2.1.0->pytorch-lightning) (3.1.4)\n",
            "Requirement already satisfied: numpy>1.20.0 in /usr/local/lib/python3.10/dist-packages (from torchmetrics>=0.7.0->pytorch-lightning) (1.26.4)\n",
            "Requirement already satisfied: aiohappyeyeballs>=2.3.0 in /usr/local/lib/python3.10/dist-packages (from aiohttp!=4.0.0a0,!=4.0.0a1->fsspec[http]>=2022.5.0->pytorch-lightning) (2.4.0)\n",
            "Requirement already satisfied: aiosignal>=1.1.2 in /usr/local/lib/python3.10/dist-packages (from aiohttp!=4.0.0a0,!=4.0.0a1->fsspec[http]>=2022.5.0->pytorch-lightning) (1.3.1)\n",
            "Requirement already satisfied: attrs>=17.3.0 in /usr/local/lib/python3.10/dist-packages (from aiohttp!=4.0.0a0,!=4.0.0a1->fsspec[http]>=2022.5.0->pytorch-lightning) (24.2.0)\n",
            "Requirement already satisfied: frozenlist>=1.1.1 in /usr/local/lib/python3.10/dist-packages (from aiohttp!=4.0.0a0,!=4.0.0a1->fsspec[http]>=2022.5.0->pytorch-lightning) (1.4.1)\n",
            "Requirement already satisfied: multidict<7.0,>=4.5 in /usr/local/lib/python3.10/dist-packages (from aiohttp!=4.0.0a0,!=4.0.0a1->fsspec[http]>=2022.5.0->pytorch-lightning) (6.0.5)\n",
            "Requirement already satisfied: yarl<2.0,>=1.0 in /usr/local/lib/python3.10/dist-packages (from aiohttp!=4.0.0a0,!=4.0.0a1->fsspec[http]>=2022.5.0->pytorch-lightning) (1.9.4)\n",
            "Requirement already satisfied: async-timeout<5.0,>=4.0 in /usr/local/lib/python3.10/dist-packages (from aiohttp!=4.0.0a0,!=4.0.0a1->fsspec[http]>=2022.5.0->pytorch-lightning) (4.0.3)\n",
            "Requirement already satisfied: MarkupSafe>=2.0 in /usr/local/lib/python3.10/dist-packages (from jinja2->torch>=2.1.0->pytorch-lightning) (2.1.5)\n",
            "Requirement already satisfied: mpmath<1.4,>=1.1.0 in /usr/local/lib/python3.10/dist-packages (from sympy->torch>=2.1.0->pytorch-lightning) (1.3.0)\n",
            "Requirement already satisfied: idna>=2.0 in /usr/local/lib/python3.10/dist-packages (from yarl<2.0,>=1.0->aiohttp!=4.0.0a0,!=4.0.0a1->fsspec[http]>=2022.5.0->pytorch-lightning) (3.8)\n",
            "Downloading pytorch_lightning-2.4.0-py3-none-any.whl (815 kB)\n",
            "\u001b[2K   \u001b[90m━━━━━━━━━━━━━━━━━━━━━━━━━━━━━━━━━━━━━━━━\u001b[0m \u001b[32m815.2/815.2 kB\u001b[0m \u001b[31m32.4 MB/s\u001b[0m eta \u001b[36m0:00:00\u001b[0m\n",
            "\u001b[?25hDownloading lightning_utilities-0.11.6-py3-none-any.whl (26 kB)\n",
            "Downloading torchmetrics-1.4.1-py3-none-any.whl (866 kB)\n",
            "\u001b[2K   \u001b[90m━━━━━━━━━━━━━━━━━━━━━━━━━━━━━━━━━━━━━━━━\u001b[0m \u001b[32m866.2/866.2 kB\u001b[0m \u001b[31m56.0 MB/s\u001b[0m eta \u001b[36m0:00:00\u001b[0m\n",
            "\u001b[?25hInstalling collected packages: lightning-utilities, torchmetrics, pytorch-lightning\n",
            "Successfully installed lightning-utilities-0.11.6 pytorch-lightning-2.4.0 torchmetrics-1.4.1\n"
          ]
        }
      ],
      "source": [
        "!pip install faiss-gpu\n",
        "!pip install datasets #evaluate torch\n",
        "!pip install pytorch-lightning"
      ]
    },
    {
      "cell_type": "code",
      "execution_count": null,
      "metadata": {
        "id": "d64ZYn1m2Nlg"
      },
      "outputs": [],
      "source": [
        "import numpy as np\n",
        "import pandas as pd\n",
        "import sys\n",
        "import matplotlib.pyplot as plt\n",
        "\n",
        "import json\n",
        "import copy\n",
        "\n",
        "from datasets import load_dataset\n",
        "\n",
        "import faiss\n",
        "\n",
        "import torch\n",
        "import torch.nn as nn\n",
        "import torch.nn.functional as F\n",
        "from torch.utils.data import Dataset, DataLoader\n",
        "\n",
        "import pytorch_lightning as pl\n",
        "\n",
        "from sklearn.preprocessing import LabelEncoder"
      ]
    },
    {
      "cell_type": "code",
      "execution_count": null,
      "metadata": {
        "colab": {
          "base_uri": "https://localhost:8080/"
        },
        "id": "N9HEaz_9S33v",
        "outputId": "4a7b6cbc-3a3d-4fae-bfc7-2c4d3ab993f7"
      },
      "outputs": [
        {
          "output_type": "stream",
          "name": "stdout",
          "text": [
            "Mounted at /content/drive\n"
          ]
        }
      ],
      "source": [
        "sys.path.append(\"/content/drive/MyDrive/Colab Notebooks/RAG/\")\n",
        "from google.colab import drive\n",
        "drive.mount('/content/drive')\n",
        "data_dir = '/content/drive/MyDrive/Colab Notebooks/RAG/'"
      ]
    },
    {
      "cell_type": "code",
      "execution_count": null,
      "metadata": {
        "id": "CfycS7JOuYow",
        "colab": {
          "base_uri": "https://localhost:8080/"
        },
        "outputId": "2d653523-b169-4436-dec6-d9ec2217d460"
      },
      "outputs": [
        {
          "output_type": "stream",
          "name": "stdout",
          "text": [
            "cuda\n"
          ]
        }
      ],
      "source": [
        "device = 'cuda' if torch.cuda.is_available() else 'cpu'\n",
        "print(device)"
      ]
    },
    {
      "cell_type": "code",
      "source": [
        "num_gpus = torch.cuda.device_count()\n",
        "print(f\"Number of GPUs available: {num_gpus}\")"
      ],
      "metadata": {
        "id": "4bB3bIyQ2oMX",
        "colab": {
          "base_uri": "https://localhost:8080/"
        },
        "outputId": "9c151b1d-dbea-4b54-c455-26a54b38ae57"
      },
      "execution_count": null,
      "outputs": [
        {
          "output_type": "stream",
          "name": "stdout",
          "text": [
            "Number of GPUs available: 1\n"
          ]
        }
      ]
    },
    {
      "cell_type": "markdown",
      "metadata": {
        "id": "Jxx9otORTQgS"
      },
      "source": [
        "## Amazon 2023 data set\n",
        "\n",
        "\n",
        "The Amazon Reviews 2023 dataset, collected to ensure up-to-date training corpora for LLMs, is significantly more extensive than its predecessors. It contains millions of reviews with accompanying text, ratings, and timestamps, making it ideal for benchmarking recommender systems.\n",
        "\n",
        "\n",
        "*   It features 3.18 times more items and 2.4 times more reviews and metadata\n",
        "\n",
        "*   The metadata is richer and cleaner, parsed from HTML into JSON, with more descriptive fields and multi-modal content such as videos and images\n",
        "\n",
        "  [Full Description](https://amazon-reviews-2023.github.io/)\n",
        "\n",
        "There are two files that are used:\n",
        "\n",
        "\n",
        "\n",
        "1.   `amazon_2023_full.parquet`: contains reviews\n",
        "2.   `amazon_2023_metadata.parquet`: contains metadata on products\n",
        "\n"
      ]
    },
    {
      "cell_type": "markdown",
      "source": [
        "## Import Data"
      ],
      "metadata": {
        "id": "SpWSjLl-d2p6"
      }
    },
    {
      "cell_type": "code",
      "execution_count": null,
      "metadata": {
        "id": "Cd5MZNQHTPjm"
      },
      "outputs": [],
      "source": [
        "\n",
        "# Load interaction data\n",
        "download_interaction_data = False\n",
        "if download_interaction_data:\n",
        "  interaction_dataset = load_dataset(\"McAuley-Lab/Amazon-Reviews-2023\", \"raw_review_Books\", trust_remote_code=True)\n",
        "  print(interaction_dataset[\"full\"][0])\n",
        "  interaction_dataset[\"full\"].to_parquet(data_dir + 'amazon_2023_full.parquet')\n",
        "\n",
        "create_downsmaple = False\n",
        "if create_downsmaple:\n",
        "  interaction_df = pd.read_parquet(data_dir + 'amazon_2023_full.parquet')\n",
        "  downsample_frac = .005\n",
        "\n",
        "  # identify downsample IDs\n",
        "  user_ids = pd.Series(interaction_df['user_id']).unique()\n",
        "  rand_ids = np.random.uniform(0, 1, len(user_ids))\n",
        "  user_ids = pd.Series(user_ids[rand_ids < downsample_frac])\n",
        "\n",
        "  # downsample\n",
        "  interaction_df[interaction_df['user_id'].isin(user_ids)].to_parquet(data_dir + 'amazon_2023_downsampled.parquet')\n",
        "\n",
        "interaction_df = pd.read_parquet(data_dir + 'amazon_2023_downsampled.parquet')\n"
      ]
    },
    {
      "cell_type": "code",
      "source": [
        "interaction_df.head()"
      ],
      "metadata": {
        "id": "MLJe7GiJjMlo"
      },
      "execution_count": null,
      "outputs": []
    },
    {
      "cell_type": "code",
      "source": [
        "download_metadata = False\n",
        "if download_metadata:\n",
        "  metadata_dataset = load_dataset(\"McAuley-Lab/Amazon-Reviews-2023\", \"raw_meta_Books\", trust_remote_code=True)\n",
        "  print(metadata_dataset[\"full\"][0])\n",
        "  metadata_dataset[\"full\"].to_parquet(data_dir + 'amazon_2023_metadata.parquet')\n",
        "\n",
        "create_downsmaple = False\n",
        "if create_downsmaple:\n",
        "  metadata_df = pd.read_parquet(data_dir + 'amazon_2023_metadata.parquet')\n",
        "\n",
        "  # identify downsample IDs\n",
        "  item_ids = pd.Series(interaction_df['parent_asin']).unique()\n",
        "\n",
        "  # downsample\n",
        "  metadata_df[metadata_df['parent_asin'].isin(item_ids)].to_parquet(data_dir + 'amazon_2023_metadata_downsampled.parquet')\n",
        "\n",
        "metadata_df = pd.read_parquet(data_dir + 'amazon_2023_metadata_downsampled.parquet')"
      ],
      "metadata": {
        "id": "8BegfgcRwxHg"
      },
      "execution_count": null,
      "outputs": []
    },
    {
      "cell_type": "markdown",
      "source": [
        "## EDA"
      ],
      "metadata": {
        "id": "cPLjrqgcdy9O"
      }
    },
    {
      "cell_type": "code",
      "source": [
        "print(f\"\"\"users: {interaction_df.user_id.nunique()}\n",
        "items: {interaction_df.asin.nunique()}\"\"\")"
      ],
      "metadata": {
        "id": "8jG_A1X5XKww"
      },
      "execution_count": null,
      "outputs": []
    },
    {
      "cell_type": "code",
      "source": [
        "# unique products purchased per user\n",
        "per_user_engagement = interaction_df.groupby('user_id')['asin'].count().value_counts().sort_index()\n",
        "per_user_engagement.plot()\n",
        "plt.yscale('log')"
      ],
      "metadata": {
        "id": "C_yq_yvJXOlC"
      },
      "execution_count": null,
      "outputs": []
    },
    {
      "cell_type": "code",
      "source": [
        "per_user_engagement[per_user_engagement.index<20].plot(kind='bar', figsize=(10, 5))"
      ],
      "metadata": {
        "id": "kgwtrPB4cCt7"
      },
      "execution_count": null,
      "outputs": []
    },
    {
      "cell_type": "code",
      "source": [
        "interaction_df.head()"
      ],
      "metadata": {
        "id": "e26WLio_t9uG"
      },
      "execution_count": null,
      "outputs": []
    },
    {
      "cell_type": "code",
      "source": [
        "metadata_df.head()"
      ],
      "metadata": {
        "id": "UOT8iKEDt90o"
      },
      "execution_count": null,
      "outputs": []
    },
    {
      "cell_type": "markdown",
      "source": [
        "## Feature Engineering"
      ],
      "metadata": {
        "id": "XlATvsMFwa-0"
      }
    },
    {
      "cell_type": "code",
      "source": [
        "# convert price to numerical\n",
        "metadata_df['price'] = metadata_df['price'].str.replace('[^0-9\\.]', '', regex=True)\\\n",
        "                                .replace('', np.nan).astype(float)\\\n",
        "                                .fillna(0)"
      ],
      "metadata": {
        "id": "j__5XQmJrfm_"
      },
      "execution_count": null,
      "outputs": []
    },
    {
      "cell_type": "code",
      "source": [
        "features = ['average_rating', 'rating_number', 'price']"
      ],
      "metadata": {
        "id": "n2mP6No_waPM"
      },
      "execution_count": null,
      "outputs": []
    },
    {
      "cell_type": "markdown",
      "source": [
        "## Basic Two Towers\n"
      ],
      "metadata": {
        "id": "Ym4cbetjoymV"
      }
    },
    {
      "cell_type": "markdown",
      "source": [
        "### Data Preperation"
      ],
      "metadata": {
        "id": "RoRna1HYdixg"
      }
    },
    {
      "cell_type": "code",
      "source": [
        "train_interactions = interaction_df.copy()\n",
        "train_metadata = metadata_df.copy()"
      ],
      "metadata": {
        "id": "2R0sGboUx2SR"
      },
      "execution_count": null,
      "outputs": []
    },
    {
      "cell_type": "code",
      "source": [
        "user_encoder = LabelEncoder()\n",
        "product_encoder = LabelEncoder()\n",
        "parent_product_encoder = LabelEncoder()\n",
        "\n",
        "train_interactions['user_id'] = user_encoder.fit_transform(train_interactions['user_id'])\n",
        "train_interactions['asin'] = product_encoder.fit_transform(train_interactions['asin'])\n",
        "train_metadata['parent_asin'] = parent_product_encoder.fit_transform(train_metadata['parent_asin'])\n",
        "train_interactions['parent_asin'] = parent_product_encoder.transform(train_interactions['parent_asin'])"
      ],
      "metadata": {
        "id": "H_HNfH0Luz4w"
      },
      "execution_count": null,
      "outputs": []
    },
    {
      "cell_type": "code",
      "source": [
        "item_metadata_tensor = torch.tensor(train_metadata[features].astype(float).values)\n",
        "\n",
        "user_tensor = torch.tensor(train_interactions['user_id'].astype(int).values)\n",
        "product_tensor = torch.tensor(train_interactions['asin'].astype(int).values)\n",
        "rating_tensor = torch.tensor((train_interactions['rating'].values>=0).astype(float))\n",
        "parent_idx_tensor = torch.tensor(train_interactions['parent_asin'].astype(int).values)\n",
        "\n",
        "# Convert to torch sparse tensor\n",
        "interaction_tensor = torch.sparse_coo_tensor(\n",
        "    indices=torch.tensor(torch.stack([user_tensor, product_tensor])),\n",
        "    values=torch.tensor(rating_tensor),\n",
        ")"
      ],
      "metadata": {
        "id": "Dhgs4Xg3t8BA"
      },
      "execution_count": null,
      "outputs": []
    },
    {
      "cell_type": "code",
      "source": [
        "class AmazonDataset(Dataset):\n",
        "\n",
        "  def __init__(self, item_metadata, parent_idx_tensor, interaction_matrix):\n",
        "\n",
        "\n",
        "    self.item_metadata = item_metadata\n",
        "    self.interactions = interaction_matrix\n",
        "    self.parent_idx = parent_idx_tensor\n",
        "    self.values = self.interactions._values()\n",
        "    self.indices = self.interactions._indices()\n",
        "\n",
        "\n",
        "  def __len__(self):\n",
        "    return self.values.size(0)\n",
        "\n",
        "  def __getitem__(self, idx):\n",
        "\n",
        "    # context\n",
        "    user_idx = self.indices[0, idx]\n",
        "    item_idx = self.indices[1, idx]\n",
        "\n",
        "    parent_idx = self.parent_idx[idx]\n",
        "\n",
        "    # interactions\n",
        "    item_meta = self.item_metadata[parent_idx]\n",
        "\n",
        "    # target\n",
        "    rating = self.values[idx]\n",
        "\n",
        "    return user_idx, item_idx, rating, item_meta"
      ],
      "metadata": {
        "id": "LAf62LZoo-lw"
      },
      "execution_count": null,
      "outputs": []
    },
    {
      "cell_type": "code",
      "source": [
        "az_dataset = AmazonDataset(item_metadata_tensor,\n",
        "                           parent_idx_tensor,\n",
        "                           interaction_tensor)"
      ],
      "metadata": {
        "id": "VWHkEXO4o-jJ"
      },
      "execution_count": null,
      "outputs": []
    },
    {
      "cell_type": "code",
      "source": [
        "az_dataset.__getitem__(1)"
      ],
      "metadata": {
        "colab": {
          "base_uri": "https://localhost:8080/"
        },
        "id": "Yd9yWwIdo-gm",
        "outputId": "e3649dda-c591-471f-d02b-a3e0660055d4"
      },
      "execution_count": null,
      "outputs": [
        {
          "output_type": "execute_result",
          "data": {
            "text/plain": [
              "(tensor(23925),\n",
              " tensor(987),\n",
              " tensor(1., dtype=torch.float64),\n",
              " tensor([  4., 556.,   0.], dtype=torch.float64))"
            ]
          },
          "metadata": {},
          "execution_count": 22
        }
      ]
    },
    {
      "cell_type": "markdown",
      "source": [
        "### Models"
      ],
      "metadata": {
        "id": "eIXp5xMHo9vn"
      }
    },
    {
      "cell_type": "code",
      "source": [
        "class TwoTowerNCF(pl.LightningModule):\n",
        "\n",
        "  def __init__(self, n_users, n_items,\n",
        "               item_metadata_dim,\n",
        "               embedding_size, metadata_embedding_size,\n",
        "               layers=1):\n",
        "\n",
        "    super().__init__()\n",
        "\n",
        "    # user tower\n",
        "    self.user_tower_embedding = nn.Embedding(n_users, embedding_size)\n",
        "    #self.user_metadata = nn.Embedding(user_metadata_dim, metadata_embedding_size)\n",
        "    #self.user_tower_output = nn.Linear(embedding_size + metadata_embedding_size, embedding_size)\n",
        "\n",
        "    # item tower\n",
        "    self.item_embedding = nn.Embedding(n_items, embedding_size)\n",
        "    self.item_metadata = nn.Linear(item_metadata_dim, metadata_embedding_size)\n",
        "    self.item_concat_embedding = nn.Linear(embedding_size + metadata_embedding_size, embedding_size)\n",
        "\n",
        "    self.user_tower_fc_layers = []\n",
        "    self.item_tower_fc_layers = []\n",
        "\n",
        "    input_dims = [embedding_size // i for i in range(1, layers+1)]\n",
        "    output_dims = [embedding_size // (i+1) for i in range(1, layers+1)]\n",
        "\n",
        "    for i in range(layers):\n",
        "      self.user_tower_fc_layers.append(nn.Linear(input_dims[i], output_dims[i]))\n",
        "      self.item_tower_fc_layers.append(nn.Linear(input_dims[i], output_dims[i]))\n",
        "\n",
        "      self.user_tower_fc_layers.append(nn.BatchNorm1d(output_dims[i]))\n",
        "      self.item_tower_fc_layers.append(nn.BatchNorm1d(output_dims[i]))\n",
        "\n",
        "      self.user_tower_fc_layers.append(nn.ReLU())\n",
        "      self.item_tower_fc_layers.append(nn.ReLU())\n",
        "\n",
        "\n",
        "    self.user_tower_fc_layers = nn.Sequential(*self.user_tower_fc_layers)\n",
        "    self.item_tower_fc_layers = nn.Sequential(*self.item_tower_fc_layers)\n",
        "\n",
        "  def forward(self, user_idx, product_idx, item_meta, target):\n",
        "\n",
        "    # user tower base\n",
        "    user_x = self.user_tower_embedding(user_idx)\n",
        "    user_x = F.relu(user_x)\n",
        "\n",
        "\n",
        "    # item tower base\n",
        "    item_x = self.item_embedding(product_idx)\n",
        "    item_meta_x = self.item_metadata(item_meta.float())\n",
        "    item_x = torch.cat([item_x, item_meta_x], dim=1)\n",
        "    item_x = self.item_concat_embedding(item_x)\n",
        "    item_x = F.relu(item_x)\n",
        "\n",
        "    # tower layers\n",
        "    item_x = self.item_tower_fc_layers(item_x)\n",
        "    user_x = self.user_tower_fc_layers(user_x)\n",
        "\n",
        "    # cosine similarity\n",
        "    output = F.cosine_similarity(item_x, user_x)\n",
        "    output = torch.sigmoid(output)\n",
        "\n",
        "    return output\n",
        "\n",
        "  def training_step(self, batch, batch_idx):\n",
        "    loss = self.common_step(batch, batch_idx)\n",
        "    self.log_dict({'train_loss': loss}, prog_bar=True, on_epoch=True)\n",
        "    return loss\n",
        "\n",
        "  def validation_step(self, batch, batch_idx):\n",
        "    loss = self.common_step(batch, batch_idx)\n",
        "    self.log('val_loss', loss)\n",
        "    return loss\n",
        "\n",
        "  def common_step(self, batch, batch_idx):\n",
        "    user_idx, product_idx, rating, item_meta = batch\n",
        "    output = self.forward(user_idx, product_idx, item_meta, rating)\n",
        "    loss = F.binary_cross_entropy(output, rating.float())\n",
        "    return loss\n",
        "\n",
        "  def configure_optimizers(self):\n",
        "        return torch.optim.Adam(self.parameters(), lr=.001)\n",
        "\n"
      ],
      "metadata": {
        "id": "-eNFmRyppMG3"
      },
      "execution_count": null,
      "outputs": []
    },
    {
      "cell_type": "code",
      "source": [
        "class SaveMetricsCallback(pl.Callback):\n",
        "\n",
        "    def __init__(self):\n",
        "      super().__init__()\n",
        "      self.metrics = []\n",
        "\n",
        "    def on_train_epoch_end(self, trainer, pl_module):\n",
        "        # Access the logs directly from the logger\n",
        "        each_me = copy.deepcopy(trainer.callback_metrics['train_loss']).cpu().numpy()\n",
        "        self.metrics.append(each_me)\n",
        "        print(f\"Epoch {trainer.current_epoch}: {trainer.callback_metrics}\")\n"
      ],
      "metadata": {
        "id": "FvZws8CrCzM0"
      },
      "execution_count": null,
      "outputs": []
    },
    {
      "cell_type": "code",
      "source": [
        "callback = SaveMetricsCallback()\n",
        "trainer = pl.Trainer(max_epochs=10, callbacks=[callback])\n",
        "\n",
        "n_items = interaction_df.asin.nunique()\n",
        "n_users = interaction_df.user_id.nunique()\n",
        "item_metadata_dim = item_metadata_tensor.size(1)\n",
        "embedding_size = 16\n",
        "\n",
        "train_loader = DataLoader(az_dataset, batch_size=1024, shuffle=True)\n",
        "\n",
        "two_tower_model = TwoTowerNCF(n_users, n_items,\n",
        "               item_metadata_dim,\n",
        "               embedding_size, item_metadata_dim,\n",
        "               layers=3)\n",
        "\n",
        "trainer.fit(two_tower_model, train_loader)"
      ],
      "metadata": {
        "colab": {
          "base_uri": "https://localhost:8080/",
          "height": 572,
          "referenced_widgets": [
            "aae36a5a839342f8915fb46db1a21d90",
            "a256372980d94ca6b1f27771cea43701",
            "c87a47cc73114ac0b5896d7a4bda90f4",
            "3f0fb23fffa6441b8081ed04370785b2",
            "54c2b432e1dd4bee88767e44c477b6ba",
            "7c0bfed1a4ba4c0abdd81c2669c6a6a1",
            "4489e25d48694c93816e84d8c3b99425",
            "c51fc61ae2dc4703b1224d1aec5d38a5",
            "b2b1123d23594bf7980718f6182335f5",
            "e56de0bd85a843ecb7595b66b7839515",
            "0f9428b3f9d74bca9a736ffd88fa9c12"
          ]
        },
        "id": "RKGk6nxt21SZ",
        "outputId": "a5ec681d-1bf5-4bfa-cb78-79bb5543da80"
      },
      "execution_count": null,
      "outputs": [
        {
          "output_type": "stream",
          "name": "stderr",
          "text": [
            "/usr/local/lib/python3.10/dist-packages/pytorch_lightning/trainer/configuration_validator.py:70: You defined a `validation_step` but have no `val_dataloader`. Skipping val loop.\n",
            "WARNING:pytorch_lightning.loggers.tensorboard:Missing logger folder: /content/lightning_logs\n",
            "INFO:pytorch_lightning.accelerators.cuda:LOCAL_RANK: 0 - CUDA_VISIBLE_DEVICES: [0]\n",
            "INFO:pytorch_lightning.callbacks.model_summary:\n",
            "  | Name                  | Type       | Params | Mode \n",
            "-------------------------------------------------------------\n",
            "0 | user_tower_embedding  | Embedding  | 825 K  | train\n",
            "1 | item_embedding        | Embedding  | 1.8 M  | train\n",
            "2 | item_metadata         | Linear     | 12     | train\n",
            "3 | item_concat_embedding | Linear     | 320    | train\n",
            "4 | user_tower_fc_layers  | Sequential | 239    | train\n",
            "5 | item_tower_fc_layers  | Sequential | 239    | train\n",
            "-------------------------------------------------------------\n",
            "2.6 M     Trainable params\n",
            "0         Non-trainable params\n",
            "2.6 M     Total params\n",
            "10.587    Total estimated model params size (MB)\n",
            "/usr/local/lib/python3.10/dist-packages/pytorch_lightning/trainer/connectors/data_connector.py:424: The 'train_dataloader' does not have many workers which may be a bottleneck. Consider increasing the value of the `num_workers` argument` to `num_workers=7` in the `DataLoader` to improve performance.\n"
          ]
        },
        {
          "output_type": "display_data",
          "data": {
            "text/plain": [
              "Training: |          | 0/? [00:00<?, ?it/s]"
            ],
            "application/vnd.jupyter.widget-view+json": {
              "version_major": 2,
              "version_minor": 0,
              "model_id": "aae36a5a839342f8915fb46db1a21d90"
            }
          },
          "metadata": {}
        },
        {
          "output_type": "stream",
          "name": "stdout",
          "text": [
            "Epoch 0: {'train_loss': tensor(0.4734, device='cuda:0'), 'train_loss_step': tensor(0.4420, device='cuda:0'), 'train_loss_epoch': tensor(0.4734, device='cuda:0')}\n",
            "Epoch 1: {'train_loss': tensor(0.4243, device='cuda:0'), 'train_loss_step': tensor(0.4089, device='cuda:0'), 'train_loss_epoch': tensor(0.4243, device='cuda:0')}\n",
            "Epoch 2: {'train_loss': tensor(0.3963, device='cuda:0'), 'train_loss_step': tensor(0.3885, device='cuda:0'), 'train_loss_epoch': tensor(0.3963, device='cuda:0')}\n",
            "Epoch 3: {'train_loss': tensor(0.3736, device='cuda:0'), 'train_loss_step': tensor(0.3664, device='cuda:0'), 'train_loss_epoch': tensor(0.3736, device='cuda:0')}\n",
            "Epoch 4: {'train_loss': tensor(0.3581, device='cuda:0'), 'train_loss_step': tensor(0.3471, device='cuda:0'), 'train_loss_epoch': tensor(0.3581, device='cuda:0')}\n",
            "Epoch 5: {'train_loss': tensor(0.3554, device='cuda:0'), 'train_loss_step': tensor(0.3554, device='cuda:0'), 'train_loss_epoch': tensor(0.3554, device='cuda:0')}\n",
            "Epoch 6: {'train_loss': tensor(0.3507, device='cuda:0'), 'train_loss_step': tensor(0.3430, device='cuda:0'), 'train_loss_epoch': tensor(0.3507, device='cuda:0')}\n",
            "Epoch 7: {'train_loss': tensor(0.3375, device='cuda:0'), 'train_loss_step': tensor(0.3365, device='cuda:0'), 'train_loss_epoch': tensor(0.3375, device='cuda:0')}\n",
            "Epoch 8: {'train_loss': tensor(0.3179, device='cuda:0'), 'train_loss_step': tensor(0.3156, device='cuda:0'), 'train_loss_epoch': tensor(0.3179, device='cuda:0')}\n"
          ]
        },
        {
          "output_type": "stream",
          "name": "stderr",
          "text": [
            "INFO:pytorch_lightning.utilities.rank_zero:`Trainer.fit` stopped: `max_epochs=10` reached.\n"
          ]
        },
        {
          "output_type": "stream",
          "name": "stdout",
          "text": [
            "Epoch 9: {'train_loss': tensor(0.3161, device='cuda:0'), 'train_loss_step': tensor(0.3160, device='cuda:0'), 'train_loss_epoch': tensor(0.3161, device='cuda:0')}\n"
          ]
        }
      ]
    },
    {
      "cell_type": "code",
      "source": [
        "plt.plot(np.array(callback.metrics))\n",
        "plt.ylabel('Loss')\n",
        "plt.xlabel('Epoch')\n",
        "plt.show()"
      ],
      "metadata": {
        "colab": {
          "base_uri": "https://localhost:8080/",
          "height": 452
        },
        "id": "2tJ7FAMADUlC",
        "outputId": "d93d6877-2d8b-47de-a4ba-d86fb8c4cc76"
      },
      "execution_count": null,
      "outputs": [
        {
          "output_type": "display_data",
          "data": {
            "text/plain": [
              "<Figure size 640x480 with 1 Axes>"
            ],
            "image/png": "[encoded data removed]"
          },
          "metadata": {}
        }
      ]
    },
    {
      "cell_type": "markdown",
      "source": [
        "## SASRec"
      ],
      "metadata": {
        "id": "R_2WBQ3DCAlF"
      }
    },
    {
      "cell_type": "markdown",
      "source": [
        "### Sequentialize Data"
      ],
      "metadata": {
        "id": "NNvDPrxgfKby"
      }
    },
    {
      "cell_type": "code",
      "source": [
        "run_once=0\n",
        "if run_once == 0:\n",
        "  interaction_df['timestamp_unix'] = interaction_df['timestamp']\n",
        "  run_once=1\n",
        "\n",
        "seq_df = interaction_df.copy()\n",
        "seq_df['timestamp'] = pd.to_datetime(seq_df['timestamp_unix'], unit='ms')\n",
        "\n",
        "cols = ['rating', 'asin', 'timestamp', 'user_id']\n",
        "\n",
        "seq_df['is_valid'] = seq_df.timestamp >= '2023-05-01'\n",
        "seq_df = seq_df[seq_df.timestamp>'2010-01-01']\n",
        "seq_df.head()"
      ],
      "metadata": {
        "colab": {
          "base_uri": "https://localhost:8080/",
          "height": 556
        },
        "id": "uRAQDl8qCtLf",
        "outputId": "e007438b-eb0f-4a6b-ace9-d6db13334a5d"
      },
      "execution_count": null,
      "outputs": [
        {
          "output_type": "execute_result",
          "data": {
            "text/plain": [
              "      rating                             title  \\\n",
              "2925     3.0        Not quite what I expected.   \n",
              "6295     5.0                       Great read!   \n",
              "6296     5.0                                👍🏽   \n",
              "6297     5.0  Great condition, love this deck!   \n",
              "6298     1.0                           Boring!   \n",
              "\n",
              "                                                   text images        asin  \\\n",
              "2925  It was nice, but not what I expected. I still ...     []  1338252801   \n",
              "6295  Great read. One for me, one as a gift. Friend ...     []  0060853964   \n",
              "6296                                                 👍🏽     []  0761169083   \n",
              "6297  I love this deck of cards. I've bought it as g...     []  1561380792   \n",
              "6298  Geez! What's all the hype about?? Absolutely n...     []  0345803485   \n",
              "\n",
              "     parent_asin                       user_id               timestamp  \\\n",
              "2925  1338252801  AH4FS5WFXP6G4REX7BSQFRLRLNZQ 2021-01-14 00:45:35.448   \n",
              "6295  0060853964  AFVFLOD4M7Y3LOVDOYOC4IL34XQQ 2018-11-21 15:15:24.549   \n",
              "6296  0761169083  AFVFLOD4M7Y3LOVDOYOC4IL34XQQ 2016-12-21 12:42:38.000   \n",
              "6297  1561380792  AFVFLOD4M7Y3LOVDOYOC4IL34XQQ 2014-11-15 21:10:00.000   \n",
              "6298  0345803485  AFVFLOD4M7Y3LOVDOYOC4IL34XQQ 2013-02-26 22:33:14.000   \n",
              "\n",
              "      helpful_vote  verified_purchase  timestamp_unix  is_valid  \n",
              "2925             0               True   1610585135448     False  \n",
              "6295             0               True   1542813324549     False  \n",
              "6296             0               True   1482324158000     False  \n",
              "6297             1               True   1416085800000     False  \n",
              "6298             2               True   1361917994000     False  "
            ],
            "text/html": [
              "\n",
              "  <div id=\"df-735b1dc1-0cec-4587-9edb-4ab179c5cdf8\" class=\"colab-df-container\">\n",
              "    <div>\n",
              "<style scoped>\n",
              "    .dataframe tbody tr th:only-of-type {\n",
              "        vertical-align: middle;\n",
              "    }\n",
              "\n",
              "    .dataframe tbody tr th {\n",
              "        vertical-align: top;\n",
              "    }\n",
              "\n",
              "    .dataframe thead th {\n",
              "        text-align: right;\n",
              "    }\n",
              "</style>\n",
              "<table border=\"1\" class=\"dataframe\">\n",
              "  <thead>\n",
              "    <tr style=\"text-align: right;\">\n",
              "      <th></th>\n",
              "      <th>rating</th>\n",
              "      <th>title</th>\n",
              "      <th>text</th>\n",
              "      <th>images</th>\n",
              "      <th>asin</th>\n",
              "      <th>parent_asin</th>\n",
              "      <th>user_id</th>\n",
              "      <th>timestamp</th>\n",
              "      <th>helpful_vote</th>\n",
              "      <th>verified_purchase</th>\n",
              "      <th>timestamp_unix</th>\n",
              "      <th>is_valid</th>\n",
              "    </tr>\n",
              "  </thead>\n",
              "  <tbody>\n",
              "    <tr>\n",
              "      <th>2925</th>\n",
              "      <td>3.0</td>\n",
              "      <td>Not quite what I expected.</td>\n",
              "      <td>It was nice, but not what I expected. I still ...</td>\n",
              "      <td>[]</td>\n",
              "      <td>1338252801</td>\n",
              "      <td>1338252801</td>\n",
              "      <td>AH4FS5WFXP6G4REX7BSQFRLRLNZQ</td>\n",
              "      <td>2021-01-14 00:45:35.448</td>\n",
              "      <td>0</td>\n",
              "      <td>True</td>\n",
              "      <td>1610585135448</td>\n",
              "      <td>False</td>\n",
              "    </tr>\n",
              "    <tr>\n",
              "      <th>6295</th>\n",
              "      <td>5.0</td>\n",
              "      <td>Great read!</td>\n",
              "      <td>Great read. One for me, one as a gift. Friend ...</td>\n",
              "      <td>[]</td>\n",
              "      <td>0060853964</td>\n",
              "      <td>0060853964</td>\n",
              "      <td>AFVFLOD4M7Y3LOVDOYOC4IL34XQQ</td>\n",
              "      <td>2018-11-21 15:15:24.549</td>\n",
              "      <td>0</td>\n",
              "      <td>True</td>\n",
              "      <td>1542813324549</td>\n",
              "      <td>False</td>\n",
              "    </tr>\n",
              "    <tr>\n",
              "      <th>6296</th>\n",
              "      <td>5.0</td>\n",
              "      <td>👍🏽</td>\n",
              "      <td>👍🏽</td>\n",
              "      <td>[]</td>\n",
              "      <td>0761169083</td>\n",
              "      <td>0761169083</td>\n",
              "      <td>AFVFLOD4M7Y3LOVDOYOC4IL34XQQ</td>\n",
              "      <td>2016-12-21 12:42:38.000</td>\n",
              "      <td>0</td>\n",
              "      <td>True</td>\n",
              "      <td>1482324158000</td>\n",
              "      <td>False</td>\n",
              "    </tr>\n",
              "    <tr>\n",
              "      <th>6297</th>\n",
              "      <td>5.0</td>\n",
              "      <td>Great condition, love this deck!</td>\n",
              "      <td>I love this deck of cards. I've bought it as g...</td>\n",
              "      <td>[]</td>\n",
              "      <td>1561380792</td>\n",
              "      <td>1561380792</td>\n",
              "      <td>AFVFLOD4M7Y3LOVDOYOC4IL34XQQ</td>\n",
              "      <td>2014-11-15 21:10:00.000</td>\n",
              "      <td>1</td>\n",
              "      <td>True</td>\n",
              "      <td>1416085800000</td>\n",
              "      <td>False</td>\n",
              "    </tr>\n",
              "    <tr>\n",
              "      <th>6298</th>\n",
              "      <td>1.0</td>\n",
              "      <td>Boring!</td>\n",
              "      <td>Geez! What's all the hype about?? Absolutely n...</td>\n",
              "      <td>[]</td>\n",
              "      <td>0345803485</td>\n",
              "      <td>0345803485</td>\n",
              "      <td>AFVFLOD4M7Y3LOVDOYOC4IL34XQQ</td>\n",
              "      <td>2013-02-26 22:33:14.000</td>\n",
              "      <td>2</td>\n",
              "      <td>True</td>\n",
              "      <td>1361917994000</td>\n",
              "      <td>False</td>\n",
              "    </tr>\n",
              "  </tbody>\n",
              "</table>\n",
              "</div>\n",
              "    <div class=\"colab-df-buttons\">\n",
              "\n",
              "  <div class=\"colab-df-container\">\n",
              "    <button class=\"colab-df-convert\" onclick=\"convertToInteractive('df-735b1dc1-0cec-4587-9edb-4ab179c5cdf8')\"\n",
              "            title=\"Convert this dataframe to an interactive table.\"\n",
              "            style=\"display:none;\">\n",
              "\n",
              "  <svg xmlns=\"http://www.w3.org/2000/svg\" height=\"24px\" viewBox=\"0 -960 960 960\">\n",
              "    <path d=\"M120-120v-720h720v720H120Zm60-500h600v-160H180v160Zm220 220h160v-160H400v160Zm0 220h160v-160H400v160ZM180-400h160v-160H180v160Zm440 0h160v-160H620v160ZM180-180h160v-160H180v160Zm440 0h160v-160H620v160Z\"/>\n",
              "  </svg>\n",
              "    </button>\n",
              "\n",
              "  <style>\n",
              "    .colab-df-container {\n",
              "      display:flex;\n",
              "      gap: 12px;\n",
              "    }\n",
              "\n",
              "    .colab-df-convert {\n",
              "      background-color: #E8F0FE;\n",
              "      border: none;\n",
              "      border-radius: 50%;\n",
              "      cursor: pointer;\n",
              "      display: none;\n",
              "      fill: #1967D2;\n",
              "      height: 32px;\n",
              "      padding: 0 0 0 0;\n",
              "      width: 32px;\n",
              "    }\n",
              "\n",
              "    .colab-df-convert:hover {\n",
              "      background-color: #E2EBFA;\n",
              "      box-shadow: 0px 1px 2px rgba(60, 64, 67, 0.3), 0px 1px 3px 1px rgba(60, 64, 67, 0.15);\n",
              "      fill: #174EA6;\n",
              "    }\n",
              "\n",
              "    .colab-df-buttons div {\n",
              "      margin-bottom: 4px;\n",
              "    }\n",
              "\n",
              "    [theme=dark] .colab-df-convert {\n",
              "      background-color: #3B4455;\n",
              "      fill: #D2E3FC;\n",
              "    }\n",
              "\n",
              "    [theme=dark] .colab-df-convert:hover {\n",
              "      background-color: #434B5C;\n",
              "      box-shadow: 0px 1px 3px 1px rgba(0, 0, 0, 0.15);\n",
              "      filter: drop-shadow(0px 1px 2px rgba(0, 0, 0, 0.3));\n",
              "      fill: #FFFFFF;\n",
              "    }\n",
              "  </style>\n",
              "\n",
              "    <script>\n",
              "      const buttonEl =\n",
              "        document.querySelector('#df-735b1dc1-0cec-4587-9edb-4ab179c5cdf8 button.colab-df-convert');\n",
              "      buttonEl.style.display =\n",
              "        google.colab.kernel.accessAllowed ? 'block' : 'none';\n",
              "\n",
              "      async function convertToInteractive(key) {\n",
              "        const element = document.querySelector('#df-735b1dc1-0cec-4587-9edb-4ab179c5cdf8');\n",
              "        const dataTable =\n",
              "          await google.colab.kernel.invokeFunction('convertToInteractive',\n",
              "                                                    [key], {});\n",
              "        if (!dataTable) return;\n",
              "\n",
              "        const docLinkHtml = 'Like what you see? Visit the ' +\n",
              "          '<a target=\"_blank\" href=https://colab.research.google.com/notebooks/data_table.ipynb>data table notebook</a>'\n",
              "          + ' to learn more about interactive tables.';\n",
              "        element.innerHTML = '';\n",
              "        dataTable['output_type'] = 'display_data';\n",
              "        await google.colab.output.renderOutput(dataTable, element);\n",
              "        const docLink = document.createElement('div');\n",
              "        docLink.innerHTML = docLinkHtml;\n",
              "        element.appendChild(docLink);\n",
              "      }\n",
              "    </script>\n",
              "  </div>\n",
              "\n",
              "\n",
              "<div id=\"df-3030ec1d-10c5-4bfb-86f0-8f940a1410b9\">\n",
              "  <button class=\"colab-df-quickchart\" onclick=\"quickchart('df-3030ec1d-10c5-4bfb-86f0-8f940a1410b9')\"\n",
              "            title=\"Suggest charts\"\n",
              "            style=\"display:none;\">\n",
              "\n",
              "<svg xmlns=\"http://www.w3.org/2000/svg\" height=\"24px\"viewBox=\"0 0 24 24\"\n",
              "     width=\"24px\">\n",
              "    <g>\n",
              "        <path d=\"M19 3H5c-1.1 0-2 .9-2 2v14c0 1.1.9 2 2 2h14c1.1 0 2-.9 2-2V5c0-1.1-.9-2-2-2zM9 17H7v-7h2v7zm4 0h-2V7h2v10zm4 0h-2v-4h2v4z\"/>\n",
              "    </g>\n",
              "</svg>\n",
              "  </button>\n",
              "\n",
              "<style>\n",
              "  .colab-df-quickchart {\n",
              "      --bg-color: #E8F0FE;\n",
              "      --fill-color: #1967D2;\n",
              "      --hover-bg-color: #E2EBFA;\n",
              "      --hover-fill-color: #174EA6;\n",
              "      --disabled-fill-color: #AAA;\n",
              "      --disabled-bg-color: #DDD;\n",
              "  }\n",
              "\n",
              "  [theme=dark] .colab-df-quickchart {\n",
              "      --bg-color: #3B4455;\n",
              "      --fill-color: #D2E3FC;\n",
              "      --hover-bg-color: #434B5C;\n",
              "      --hover-fill-color: #FFFFFF;\n",
              "      --disabled-bg-color: #3B4455;\n",
              "      --disabled-fill-color: #666;\n",
              "  }\n",
              "\n",
              "  .colab-df-quickchart {\n",
              "    background-color: var(--bg-color);\n",
              "    border: none;\n",
              "    border-radius: 50%;\n",
              "    cursor: pointer;\n",
              "    display: none;\n",
              "    fill: var(--fill-color);\n",
              "    height: 32px;\n",
              "    padding: 0;\n",
              "    width: 32px;\n",
              "  }\n",
              "\n",
              "  .colab-df-quickchart:hover {\n",
              "    background-color: var(--hover-bg-color);\n",
              "    box-shadow: 0 1px 2px rgba(60, 64, 67, 0.3), 0 1px 3px 1px rgba(60, 64, 67, 0.15);\n",
              "    fill: var(--button-hover-fill-color);\n",
              "  }\n",
              "\n",
              "  .colab-df-quickchart-complete:disabled,\n",
              "  .colab-df-quickchart-complete:disabled:hover {\n",
              "    background-color: var(--disabled-bg-color);\n",
              "    fill: var(--disabled-fill-color);\n",
              "    box-shadow: none;\n",
              "  }\n",
              "\n",
              "  .colab-df-spinner {\n",
              "    border: 2px solid var(--fill-color);\n",
              "    border-color: transparent;\n",
              "    border-bottom-color: var(--fill-color);\n",
              "    animation:\n",
              "      spin 1s steps(1) infinite;\n",
              "  }\n",
              "\n",
              "  @keyframes spin {\n",
              "    0% {\n",
              "      border-color: transparent;\n",
              "      border-bottom-color: var(--fill-color);\n",
              "      border-left-color: var(--fill-color);\n",
              "    }\n",
              "    20% {\n",
              "      border-color: transparent;\n",
              "      border-left-color: var(--fill-color);\n",
              "      border-top-color: var(--fill-color);\n",
              "    }\n",
              "    30% {\n",
              "      border-color: transparent;\n",
              "      border-left-color: var(--fill-color);\n",
              "      border-top-color: var(--fill-color);\n",
              "      border-right-color: var(--fill-color);\n",
              "    }\n",
              "    40% {\n",
              "      border-color: transparent;\n",
              "      border-right-color: var(--fill-color);\n",
              "      border-top-color: var(--fill-color);\n",
              "    }\n",
              "    60% {\n",
              "      border-color: transparent;\n",
              "      border-right-color: var(--fill-color);\n",
              "    }\n",
              "    80% {\n",
              "      border-color: transparent;\n",
              "      border-right-color: var(--fill-color);\n",
              "      border-bottom-color: var(--fill-color);\n",
              "    }\n",
              "    90% {\n",
              "      border-color: transparent;\n",
              "      border-bottom-color: var(--fill-color);\n",
              "    }\n",
              "  }\n",
              "</style>\n",
              "\n",
              "  <script>\n",
              "    async function quickchart(key) {\n",
              "      const quickchartButtonEl =\n",
              "        document.querySelector('#' + key + ' button');\n",
              "      quickchartButtonEl.disabled = true;  // To prevent multiple clicks.\n",
              "      quickchartButtonEl.classList.add('colab-df-spinner');\n",
              "      try {\n",
              "        const charts = await google.colab.kernel.invokeFunction(\n",
              "            'suggestCharts', [key], {});\n",
              "      } catch (error) {\n",
              "        console.error('Error during call to suggestCharts:', error);\n",
              "      }\n",
              "      quickchartButtonEl.classList.remove('colab-df-spinner');\n",
              "      quickchartButtonEl.classList.add('colab-df-quickchart-complete');\n",
              "    }\n",
              "    (() => {\n",
              "      let quickchartButtonEl =\n",
              "        document.querySelector('#df-3030ec1d-10c5-4bfb-86f0-8f940a1410b9 button');\n",
              "      quickchartButtonEl.style.display =\n",
              "        google.colab.kernel.accessAllowed ? 'block' : 'none';\n",
              "    })();\n",
              "  </script>\n",
              "</div>\n",
              "\n",
              "    </div>\n",
              "  </div>\n"
            ],
            "application/vnd.google.colaboratory.intrinsic+json": {
              "type": "dataframe",
              "variable_name": "seq_df"
            }
          },
          "metadata": {},
          "execution_count": 17
        }
      ]
    },
    {
      "cell_type": "code",
      "source": [
        "user_encoder = LabelEncoder()\n",
        "product_encoder = LabelEncoder()\n",
        "\n",
        "seq_df['user_id'] = user_encoder.fit_transform(seq_df['user_id'])\n",
        "seq_df['asin'] = product_encoder.fit_transform(seq_df['asin'])\n",
        "\n",
        "# sequentialize\n",
        "cols = ['user_id', 'timestamp', 'asin', 'rating']\n",
        "seq_df_gp = seq_df[cols].sort_values('timestamp').groupby('user_id').agg(list).reset_index()\n",
        "\n",
        "# padding\n",
        "max_len = 10\n",
        "seq_df_gp[['rating', 'asin','timestamp']] = seq_df_gp[['rating', 'asin','timestamp']].\\\n",
        "                                            applymap(lambda x : x[:10] if len(x)>=10 else [0]*(max_len-len(x)) + x)"
      ],
      "metadata": {
        "id": "fMJ-kC9KNPJT",
        "colab": {
          "base_uri": "https://localhost:8080/"
        },
        "outputId": "eef48b5e-75cf-4032-f405-ee982f0cd0aa"
      },
      "execution_count": null,
      "outputs": [
        {
          "output_type": "stream",
          "name": "stderr",
          "text": [
            "<ipython-input-18-c617345da4f0>:14: FutureWarning: DataFrame.applymap has been deprecated. Use DataFrame.map instead.\n",
            "  applymap(lambda x : x[:10] if len(x)>=10 else [0]*(max_len-len(x)) + x)\n"
          ]
        }
      ]
    },
    {
      "cell_type": "code",
      "source": [
        "seq_df_gp.head()"
      ],
      "metadata": {
        "colab": {
          "base_uri": "https://localhost:8080/",
          "height": 206
        },
        "id": "GgHsF3m-N9YO",
        "outputId": "943089f5-d8e6-4720-8084-44acba52d9be"
      },
      "execution_count": null,
      "outputs": [
        {
          "output_type": "execute_result",
          "data": {
            "text/plain": [
              "   user_id                                          timestamp  \\\n",
              "0        0  [0, 0, 0, 0, 0, 0, 0, 0, 2013-12-21 05:06:34, ...   \n",
              "1        1  [0, 0, 0, 0, 0, 0, 0, 0, 2013-06-16 14:29:07, ...   \n",
              "2        2  [0, 0, 0, 0, 0, 0, 0, 2013-08-21 00:03:46, 201...   \n",
              "3        3  [0, 0, 0, 0, 0, 0, 0, 2015-02-04 20:28:44, 201...   \n",
              "4        4   [0, 0, 0, 0, 0, 0, 0, 0, 0, 2013-10-05 14:16:28]   \n",
              "\n",
              "                                         asin  \\\n",
              "0      [0, 0, 0, 0, 0, 0, 0, 0, 88945, 65230]   \n",
              "1      [0, 0, 0, 0, 0, 0, 0, 0, 83572, 91628]   \n",
              "2  [0, 0, 0, 0, 0, 0, 0, 20673, 54125, 78922]   \n",
              "3  [0, 0, 0, 0, 0, 0, 0, 75993, 62508, 60312]   \n",
              "4          [0, 0, 0, 0, 0, 0, 0, 0, 0, 62270]   \n",
              "\n",
              "                                 rating  \n",
              "0    [0, 0, 0, 0, 0, 0, 0, 0, 4.0, 2.0]  \n",
              "1    [0, 0, 0, 0, 0, 0, 0, 0, 5.0, 5.0]  \n",
              "2  [0, 0, 0, 0, 0, 0, 0, 5.0, 5.0, 5.0]  \n",
              "3  [0, 0, 0, 0, 0, 0, 0, 5.0, 5.0, 5.0]  \n",
              "4      [0, 0, 0, 0, 0, 0, 0, 0, 0, 5.0]  "
            ],
            "text/html": [
              "\n",
              "  <div id=\"df-5c6587f8-1b88-4823-96bf-3a88112d63ef\" class=\"colab-df-container\">\n",
              "    <div>\n",
              "<style scoped>\n",
              "    .dataframe tbody tr th:only-of-type {\n",
              "        vertical-align: middle;\n",
              "    }\n",
              "\n",
              "    .dataframe tbody tr th {\n",
              "        vertical-align: top;\n",
              "    }\n",
              "\n",
              "    .dataframe thead th {\n",
              "        text-align: right;\n",
              "    }\n",
              "</style>\n",
              "<table border=\"1\" class=\"dataframe\">\n",
              "  <thead>\n",
              "    <tr style=\"text-align: right;\">\n",
              "      <th></th>\n",
              "      <th>user_id</th>\n",
              "      <th>timestamp</th>\n",
              "      <th>asin</th>\n",
              "      <th>rating</th>\n",
              "    </tr>\n",
              "  </thead>\n",
              "  <tbody>\n",
              "    <tr>\n",
              "      <th>0</th>\n",
              "      <td>0</td>\n",
              "      <td>[0, 0, 0, 0, 0, 0, 0, 0, 2013-12-21 05:06:34, ...</td>\n",
              "      <td>[0, 0, 0, 0, 0, 0, 0, 0, 88945, 65230]</td>\n",
              "      <td>[0, 0, 0, 0, 0, 0, 0, 0, 4.0, 2.0]</td>\n",
              "    </tr>\n",
              "    <tr>\n",
              "      <th>1</th>\n",
              "      <td>1</td>\n",
              "      <td>[0, 0, 0, 0, 0, 0, 0, 0, 2013-06-16 14:29:07, ...</td>\n",
              "      <td>[0, 0, 0, 0, 0, 0, 0, 0, 83572, 91628]</td>\n",
              "      <td>[0, 0, 0, 0, 0, 0, 0, 0, 5.0, 5.0]</td>\n",
              "    </tr>\n",
              "    <tr>\n",
              "      <th>2</th>\n",
              "      <td>2</td>\n",
              "      <td>[0, 0, 0, 0, 0, 0, 0, 2013-08-21 00:03:46, 201...</td>\n",
              "      <td>[0, 0, 0, 0, 0, 0, 0, 20673, 54125, 78922]</td>\n",
              "      <td>[0, 0, 0, 0, 0, 0, 0, 5.0, 5.0, 5.0]</td>\n",
              "    </tr>\n",
              "    <tr>\n",
              "      <th>3</th>\n",
              "      <td>3</td>\n",
              "      <td>[0, 0, 0, 0, 0, 0, 0, 2015-02-04 20:28:44, 201...</td>\n",
              "      <td>[0, 0, 0, 0, 0, 0, 0, 75993, 62508, 60312]</td>\n",
              "      <td>[0, 0, 0, 0, 0, 0, 0, 5.0, 5.0, 5.0]</td>\n",
              "    </tr>\n",
              "    <tr>\n",
              "      <th>4</th>\n",
              "      <td>4</td>\n",
              "      <td>[0, 0, 0, 0, 0, 0, 0, 0, 0, 2013-10-05 14:16:28]</td>\n",
              "      <td>[0, 0, 0, 0, 0, 0, 0, 0, 0, 62270]</td>\n",
              "      <td>[0, 0, 0, 0, 0, 0, 0, 0, 0, 5.0]</td>\n",
              "    </tr>\n",
              "  </tbody>\n",
              "</table>\n",
              "</div>\n",
              "    <div class=\"colab-df-buttons\">\n",
              "\n",
              "  <div class=\"colab-df-container\">\n",
              "    <button class=\"colab-df-convert\" onclick=\"convertToInteractive('df-5c6587f8-1b88-4823-96bf-3a88112d63ef')\"\n",
              "            title=\"Convert this dataframe to an interactive table.\"\n",
              "            style=\"display:none;\">\n",
              "\n",
              "  <svg xmlns=\"http://www.w3.org/2000/svg\" height=\"24px\" viewBox=\"0 -960 960 960\">\n",
              "    <path d=\"M120-120v-720h720v720H120Zm60-500h600v-160H180v160Zm220 220h160v-160H400v160Zm0 220h160v-160H400v160ZM180-400h160v-160H180v160Zm440 0h160v-160H620v160ZM180-180h160v-160H180v160Zm440 0h160v-160H620v160Z\"/>\n",
              "  </svg>\n",
              "    </button>\n",
              "\n",
              "  <style>\n",
              "    .colab-df-container {\n",
              "      display:flex;\n",
              "      gap: 12px;\n",
              "    }\n",
              "\n",
              "    .colab-df-convert {\n",
              "      background-color: #E8F0FE;\n",
              "      border: none;\n",
              "      border-radius: 50%;\n",
              "      cursor: pointer;\n",
              "      display: none;\n",
              "      fill: #1967D2;\n",
              "      height: 32px;\n",
              "      padding: 0 0 0 0;\n",
              "      width: 32px;\n",
              "    }\n",
              "\n",
              "    .colab-df-convert:hover {\n",
              "      background-color: #E2EBFA;\n",
              "      box-shadow: 0px 1px 2px rgba(60, 64, 67, 0.3), 0px 1px 3px 1px rgba(60, 64, 67, 0.15);\n",
              "      fill: #174EA6;\n",
              "    }\n",
              "\n",
              "    .colab-df-buttons div {\n",
              "      margin-bottom: 4px;\n",
              "    }\n",
              "\n",
              "    [theme=dark] .colab-df-convert {\n",
              "      background-color: #3B4455;\n",
              "      fill: #D2E3FC;\n",
              "    }\n",
              "\n",
              "    [theme=dark] .colab-df-convert:hover {\n",
              "      background-color: #434B5C;\n",
              "      box-shadow: 0px 1px 3px 1px rgba(0, 0, 0, 0.15);\n",
              "      filter: drop-shadow(0px 1px 2px rgba(0, 0, 0, 0.3));\n",
              "      fill: #FFFFFF;\n",
              "    }\n",
              "  </style>\n",
              "\n",
              "    <script>\n",
              "      const buttonEl =\n",
              "        document.querySelector('#df-5c6587f8-1b88-4823-96bf-3a88112d63ef button.colab-df-convert');\n",
              "      buttonEl.style.display =\n",
              "        google.colab.kernel.accessAllowed ? 'block' : 'none';\n",
              "\n",
              "      async function convertToInteractive(key) {\n",
              "        const element = document.querySelector('#df-5c6587f8-1b88-4823-96bf-3a88112d63ef');\n",
              "        const dataTable =\n",
              "          await google.colab.kernel.invokeFunction('convertToInteractive',\n",
              "                                                    [key], {});\n",
              "        if (!dataTable) return;\n",
              "\n",
              "        const docLinkHtml = 'Like what you see? Visit the ' +\n",
              "          '<a target=\"_blank\" href=https://colab.research.google.com/notebooks/data_table.ipynb>data table notebook</a>'\n",
              "          + ' to learn more about interactive tables.';\n",
              "        element.innerHTML = '';\n",
              "        dataTable['output_type'] = 'display_data';\n",
              "        await google.colab.output.renderOutput(dataTable, element);\n",
              "        const docLink = document.createElement('div');\n",
              "        docLink.innerHTML = docLinkHtml;\n",
              "        element.appendChild(docLink);\n",
              "      }\n",
              "    </script>\n",
              "  </div>\n",
              "\n",
              "\n",
              "<div id=\"df-005a3bc2-b56e-46a3-be1b-e80c9266d753\">\n",
              "  <button class=\"colab-df-quickchart\" onclick=\"quickchart('df-005a3bc2-b56e-46a3-be1b-e80c9266d753')\"\n",
              "            title=\"Suggest charts\"\n",
              "            style=\"display:none;\">\n",
              "\n",
              "<svg xmlns=\"http://www.w3.org/2000/svg\" height=\"24px\"viewBox=\"0 0 24 24\"\n",
              "     width=\"24px\">\n",
              "    <g>\n",
              "        <path d=\"M19 3H5c-1.1 0-2 .9-2 2v14c0 1.1.9 2 2 2h14c1.1 0 2-.9 2-2V5c0-1.1-.9-2-2-2zM9 17H7v-7h2v7zm4 0h-2V7h2v10zm4 0h-2v-4h2v4z\"/>\n",
              "    </g>\n",
              "</svg>\n",
              "  </button>\n",
              "\n",
              "<style>\n",
              "  .colab-df-quickchart {\n",
              "      --bg-color: #E8F0FE;\n",
              "      --fill-color: #1967D2;\n",
              "      --hover-bg-color: #E2EBFA;\n",
              "      --hover-fill-color: #174EA6;\n",
              "      --disabled-fill-color: #AAA;\n",
              "      --disabled-bg-color: #DDD;\n",
              "  }\n",
              "\n",
              "  [theme=dark] .colab-df-quickchart {\n",
              "      --bg-color: #3B4455;\n",
              "      --fill-color: #D2E3FC;\n",
              "      --hover-bg-color: #434B5C;\n",
              "      --hover-fill-color: #FFFFFF;\n",
              "      --disabled-bg-color: #3B4455;\n",
              "      --disabled-fill-color: #666;\n",
              "  }\n",
              "\n",
              "  .colab-df-quickchart {\n",
              "    background-color: var(--bg-color);\n",
              "    border: none;\n",
              "    border-radius: 50%;\n",
              "    cursor: pointer;\n",
              "    display: none;\n",
              "    fill: var(--fill-color);\n",
              "    height: 32px;\n",
              "    padding: 0;\n",
              "    width: 32px;\n",
              "  }\n",
              "\n",
              "  .colab-df-quickchart:hover {\n",
              "    background-color: var(--hover-bg-color);\n",
              "    box-shadow: 0 1px 2px rgba(60, 64, 67, 0.3), 0 1px 3px 1px rgba(60, 64, 67, 0.15);\n",
              "    fill: var(--button-hover-fill-color);\n",
              "  }\n",
              "\n",
              "  .colab-df-quickchart-complete:disabled,\n",
              "  .colab-df-quickchart-complete:disabled:hover {\n",
              "    background-color: var(--disabled-bg-color);\n",
              "    fill: var(--disabled-fill-color);\n",
              "    box-shadow: none;\n",
              "  }\n",
              "\n",
              "  .colab-df-spinner {\n",
              "    border: 2px solid var(--fill-color);\n",
              "    border-color: transparent;\n",
              "    border-bottom-color: var(--fill-color);\n",
              "    animation:\n",
              "      spin 1s steps(1) infinite;\n",
              "  }\n",
              "\n",
              "  @keyframes spin {\n",
              "    0% {\n",
              "      border-color: transparent;\n",
              "      border-bottom-color: var(--fill-color);\n",
              "      border-left-color: var(--fill-color);\n",
              "    }\n",
              "    20% {\n",
              "      border-color: transparent;\n",
              "      border-left-color: var(--fill-color);\n",
              "      border-top-color: var(--fill-color);\n",
              "    }\n",
              "    30% {\n",
              "      border-color: transparent;\n",
              "      border-left-color: var(--fill-color);\n",
              "      border-top-color: var(--fill-color);\n",
              "      border-right-color: var(--fill-color);\n",
              "    }\n",
              "    40% {\n",
              "      border-color: transparent;\n",
              "      border-right-color: var(--fill-color);\n",
              "      border-top-color: var(--fill-color);\n",
              "    }\n",
              "    60% {\n",
              "      border-color: transparent;\n",
              "      border-right-color: var(--fill-color);\n",
              "    }\n",
              "    80% {\n",
              "      border-color: transparent;\n",
              "      border-right-color: var(--fill-color);\n",
              "      border-bottom-color: var(--fill-color);\n",
              "    }\n",
              "    90% {\n",
              "      border-color: transparent;\n",
              "      border-bottom-color: var(--fill-color);\n",
              "    }\n",
              "  }\n",
              "</style>\n",
              "\n",
              "  <script>\n",
              "    async function quickchart(key) {\n",
              "      const quickchartButtonEl =\n",
              "        document.querySelector('#' + key + ' button');\n",
              "      quickchartButtonEl.disabled = true;  // To prevent multiple clicks.\n",
              "      quickchartButtonEl.classList.add('colab-df-spinner');\n",
              "      try {\n",
              "        const charts = await google.colab.kernel.invokeFunction(\n",
              "            'suggestCharts', [key], {});\n",
              "      } catch (error) {\n",
              "        console.error('Error during call to suggestCharts:', error);\n",
              "      }\n",
              "      quickchartButtonEl.classList.remove('colab-df-spinner');\n",
              "      quickchartButtonEl.classList.add('colab-df-quickchart-complete');\n",
              "    }\n",
              "    (() => {\n",
              "      let quickchartButtonEl =\n",
              "        document.querySelector('#df-005a3bc2-b56e-46a3-be1b-e80c9266d753 button');\n",
              "      quickchartButtonEl.style.display =\n",
              "        google.colab.kernel.accessAllowed ? 'block' : 'none';\n",
              "    })();\n",
              "  </script>\n",
              "</div>\n",
              "\n",
              "    </div>\n",
              "  </div>\n"
            ],
            "application/vnd.google.colaboratory.intrinsic+json": {
              "type": "dataframe",
              "variable_name": "seq_df_gp",
              "summary": "{\n  \"name\": \"seq_df_gp\",\n  \"rows\": 48879,\n  \"fields\": [\n    {\n      \"column\": \"user_id\",\n      \"properties\": {\n        \"dtype\": \"number\",\n        \"std\": 14110,\n        \"min\": 0,\n        \"max\": 48878,\n        \"num_unique_values\": 48879,\n        \"samples\": [\n          19625,\n          8473,\n          37155\n        ],\n        \"semantic_type\": \"\",\n        \"description\": \"\"\n      }\n    },\n    {\n      \"column\": \"timestamp\",\n      \"properties\": {\n        \"dtype\": \"object\",\n        \"semantic_type\": \"\",\n        \"description\": \"\"\n      }\n    },\n    {\n      \"column\": \"asin\",\n      \"properties\": {\n        \"dtype\": \"object\",\n        \"semantic_type\": \"\",\n        \"description\": \"\"\n      }\n    },\n    {\n      \"column\": \"rating\",\n      \"properties\": {\n        \"dtype\": \"object\",\n        \"semantic_type\": \"\",\n        \"description\": \"\"\n      }\n    }\n  ]\n}"
            }
          },
          "metadata": {},
          "execution_count": 19
        }
      ]
    },
    {
      "cell_type": "code",
      "source": [
        "len(seq_df_gp.timestamp)"
      ],
      "metadata": {
        "colab": {
          "base_uri": "https://localhost:8080/"
        },
        "id": "7K9U7vO9Njb6",
        "outputId": "f68a0e28-47f7-452a-8408-9e4594728a35"
      },
      "execution_count": null,
      "outputs": [
        {
          "output_type": "execute_result",
          "data": {
            "text/plain": [
              "48879"
            ]
          },
          "metadata": {},
          "execution_count": 20
        }
      ]
    },
    {
      "cell_type": "code",
      "source": [
        "class seqDataset(Dataset):\n",
        "    def __init__(self, df):\n",
        "        super().__init__()\n",
        "        self.df = df\n",
        "\n",
        "    def __len__(self):\n",
        "        return len(self.df)\n",
        "\n",
        "    def __getitem__(self, idx):\n",
        "        data = self.df.iloc[idx]\n",
        "        user_id = torch.tensor(data['user_id'])\n",
        "        product_id = torch.tensor(data['asin'])\n",
        "        previous_ratings = torch.tensor(data['rating'])\n",
        "        target_rating = torch.tensor(data['rating'][-1])\n",
        "\n",
        "\n",
        "        return user_id, product_id, previous_ratings, target_rating"
      ],
      "metadata": {
        "id": "lSLG-QEzOpQs"
      },
      "execution_count": null,
      "outputs": []
    },
    {
      "cell_type": "code",
      "source": [
        "dataset = seqDataset(seq_df_gp)"
      ],
      "metadata": {
        "id": "bD5cS1VzPc75"
      },
      "execution_count": null,
      "outputs": []
    },
    {
      "cell_type": "code",
      "source": [
        "dataset.__getitem__(44)"
      ],
      "metadata": {
        "colab": {
          "base_uri": "https://localhost:8080/"
        },
        "id": "YnDX-rJC0uV-",
        "outputId": "4a0758e8-de3d-424e-d1ea-2d3fa783a3a2"
      },
      "execution_count": null,
      "outputs": [
        {
          "output_type": "execute_result",
          "data": {
            "text/plain": [
              "(tensor(44),\n",
              " tensor([    0,     0,     0,     0,     0,     0,     0,     0,     0, 97109]),\n",
              " tensor([0., 0., 0., 0., 0., 0., 0., 0., 0., 5.]),\n",
              " tensor(5.))"
            ]
          },
          "metadata": {},
          "execution_count": 24
        }
      ]
    },
    {
      "cell_type": "code",
      "source": [
        "print(torch.cuda.memory_summary(device=None, abbreviated=False))"
      ],
      "metadata": {
        "colab": {
          "base_uri": "https://localhost:8080/"
        },
        "id": "v7jZJTfKiD8X",
        "outputId": "37f3fa15-c134-405a-cc80-45ef2d09cc0c"
      },
      "execution_count": null,
      "outputs": [
        {
          "output_type": "stream",
          "name": "stdout",
          "text": [
            "|===========================================================================|\n",
            "|                  PyTorch CUDA memory summary, device ID 0                 |\n",
            "|---------------------------------------------------------------------------|\n",
            "|            CUDA OOMs: 0            |        cudaMalloc retries: 0         |\n",
            "|===========================================================================|\n",
            "|        Metric         | Cur Usage  | Peak Usage | Tot Alloc  | Tot Freed  |\n",
            "|---------------------------------------------------------------------------|\n",
            "| Allocated memory      |      0 B   |      0 B   |      0 B   |      0 B   |\n",
            "|       from large pool |      0 B   |      0 B   |      0 B   |      0 B   |\n",
            "|       from small pool |      0 B   |      0 B   |      0 B   |      0 B   |\n",
            "|---------------------------------------------------------------------------|\n",
            "| Active memory         |      0 B   |      0 B   |      0 B   |      0 B   |\n",
            "|       from large pool |      0 B   |      0 B   |      0 B   |      0 B   |\n",
            "|       from small pool |      0 B   |      0 B   |      0 B   |      0 B   |\n",
            "|---------------------------------------------------------------------------|\n",
            "| Requested memory      |      0 B   |      0 B   |      0 B   |      0 B   |\n",
            "|       from large pool |      0 B   |      0 B   |      0 B   |      0 B   |\n",
            "|       from small pool |      0 B   |      0 B   |      0 B   |      0 B   |\n",
            "|---------------------------------------------------------------------------|\n",
            "| GPU reserved memory   |      0 B   |      0 B   |      0 B   |      0 B   |\n",
            "|       from large pool |      0 B   |      0 B   |      0 B   |      0 B   |\n",
            "|       from small pool |      0 B   |      0 B   |      0 B   |      0 B   |\n",
            "|---------------------------------------------------------------------------|\n",
            "| Non-releasable memory |      0 B   |      0 B   |      0 B   |      0 B   |\n",
            "|       from large pool |      0 B   |      0 B   |      0 B   |      0 B   |\n",
            "|       from small pool |      0 B   |      0 B   |      0 B   |      0 B   |\n",
            "|---------------------------------------------------------------------------|\n",
            "| Allocations           |       0    |       0    |       0    |       0    |\n",
            "|       from large pool |       0    |       0    |       0    |       0    |\n",
            "|       from small pool |       0    |       0    |       0    |       0    |\n",
            "|---------------------------------------------------------------------------|\n",
            "| Active allocs         |       0    |       0    |       0    |       0    |\n",
            "|       from large pool |       0    |       0    |       0    |       0    |\n",
            "|       from small pool |       0    |       0    |       0    |       0    |\n",
            "|---------------------------------------------------------------------------|\n",
            "| GPU reserved segments |       0    |       0    |       0    |       0    |\n",
            "|       from large pool |       0    |       0    |       0    |       0    |\n",
            "|       from small pool |       0    |       0    |       0    |       0    |\n",
            "|---------------------------------------------------------------------------|\n",
            "| Non-releasable allocs |       0    |       0    |       0    |       0    |\n",
            "|       from large pool |       0    |       0    |       0    |       0    |\n",
            "|       from small pool |       0    |       0    |       0    |       0    |\n",
            "|---------------------------------------------------------------------------|\n",
            "| Oversize allocations  |       0    |       0    |       0    |       0    |\n",
            "|---------------------------------------------------------------------------|\n",
            "| Oversize GPU segments |       0    |       0    |       0    |       0    |\n",
            "|===========================================================================|\n",
            "\n"
          ]
        }
      ]
    },
    {
      "cell_type": "markdown",
      "source": [
        "### Model Architecture"
      ],
      "metadata": {
        "id": "u1aE6gx03kJx"
      }
    },
    {
      "cell_type": "code",
      "source": [
        "class PlTrainer(pl.LightningModule):\n",
        "\n",
        "  def __init__(self):\n",
        "    super().__init__()\n",
        "    self.criterion = F.binary_cross_entropy\n",
        "\n",
        "  def configure_optimizers(self):\n",
        "    optimizer = torch.optim.Adam(self.parameters(), lr=.001)\n",
        "    return optimizer\n",
        "\n",
        "  def common_step(self, batch, batch_idx):\n",
        "    user_id, product_id, previous_ratings, target_rating = batch\n",
        "    y_hat = self.forward(user_id, product_id, previous_ratings)\n",
        "\n",
        "    import pdb\n",
        "    pdb.set_trace()\n",
        "    # stop point\n",
        "    y_hat = y_hat.reshape((len(y_hat)*y_hat.shape[1], y_hat.shape[-1]))\n",
        "    y = y.reshape((len(y)*y.shape[1], y.shape[-1]))\n",
        "    ind = x['strt_ind'].view(-1) == True\n",
        "\n",
        "    y_hat = y_hat[ind]\n",
        "    y = y[ind]\n",
        "\n",
        "    y_hat = y_hat[:, 1:]\n",
        "    y = y[:, 1:]\n",
        "\n",
        "\n",
        "    loss = self.criterion(y_hat, y)\n",
        "\n",
        "    return loss\n",
        "\n",
        "  def training_step(self, batch, batch_idx):\n",
        "    loss = self.common_step(batch, batch_idx)\n",
        "    self.log('train_loss', loss, on_epoch=True, prog_bar=True, logger=True, on_step=False)\n",
        "    return loss\n",
        "\n",
        "  def validation_step(self, batch, batch_idx):\n",
        "    loss = self.common_step(batch, batch_idx)\n",
        "    self.log('val_loss', loss, on_epoch=True, prog_bar=True, logger=True, on_step=False)\n",
        "    return loss"
      ],
      "metadata": {
        "id": "0Lbk7gUF6CGC"
      },
      "execution_count": null,
      "outputs": []
    },
    {
      "cell_type": "code",
      "source": [
        "class SaveMetricsCallback(pl.Callback):\n",
        "\n",
        "    def __init__(self):\n",
        "      super().__init__()\n",
        "      self.metrics = []\n",
        "\n",
        "    def on_train_epoch_end(self, trainer, pl_module):\n",
        "        # Access the logs directly from the logger\n",
        "        each_me = copy.deepcopy(trainer.callback_metrics['train_loss']).cpu().numpy()\n",
        "        self.metrics.append(each_me)\n",
        "        print(f\"Epoch {trainer.current_epoch}: {trainer.callback_metrics}\")"
      ],
      "metadata": {
        "id": "0GWGan_h-vnh"
      },
      "execution_count": null,
      "outputs": []
    },
    {
      "cell_type": "code",
      "source": [
        "class SASRec(PlTrainer):\n",
        "    def __init__(self, n_tokens, embedding_dim, d_model,\n",
        "                 num_heads, num_layers, dropout, max_len):\n",
        "        super(SASRec, self).__init__()\n",
        "\n",
        "        # P x d_model\n",
        "        self.product_embedding = nn.Embedding(n_tokens, embedding_dim, padding_idx=0)\n",
        "        self.position_embedding = nn.Embedding(max_len, embedding_dim) # len x d_model\n",
        "\n",
        "        self.emb_dropout = nn.Dropout(dropout)\n",
        "\n",
        "        self.transformer_encoder = nn.TransformerEncoderLayer(d_model=d_model,\n",
        "                                                   nhead=num_heads,\n",
        "                                                   dim_feedforward = embedding_dim,\n",
        "                                                   dropout=dropout, batch_first=True)\n",
        "        #self.transformer_encoder = nn.TransformerEncoder(encoder_layer, num_layers)\n",
        "\n",
        "\n",
        "        self.fc = nn.Linear(embedding_dim, n_tokens)\n",
        "        self.max_len = max_len\n",
        "\n",
        "    def forward(self, user_id, product_ids, previous_ratings):\n",
        "        device = next(self.parameters()).device\n",
        "        src_mask = (torch.tril(torch.rand(self.max_len, self.max_len).to(device))==0).bool()\n",
        "\n",
        "        positions = torch.arange(previous_ratings.size(1), device=previous_ratings.device).\\\n",
        "                                                                    unsqueeze(0).\\\n",
        "                                                                    expand_as(previous_ratings) # Creates position for each previous rating\n",
        "\n",
        "\n",
        "        product_embeddings = self.product_embedding(product_ids)\n",
        "        previous_ratings = previous_ratings.unsqueeze(-1) * product_embeddings\n",
        "\n",
        "        position_embeddings = self.position_embedding(positions)\n",
        "        embeddings = product_embeddings + position_embeddings + previous_ratings\n",
        "        embeddings = self.emb_dropout(embeddings) # batch, context_window, embedding_dim\n",
        "        # embeddings = embeddings.permute(1, 0, 2)\n",
        "        # import pdb\n",
        "        # pdb.set_trace()\n",
        "        transformer_out = self.transformer_encoder(embeddings, src_mask=src_mask)\n",
        "        #transformer_out = transformer_out.permute(1, 0, 2)\n",
        "\n",
        "        logits = self.fc(transformer_out)\n",
        "        out = F.sigmoid(logits)\n",
        "        return out"
      ],
      "metadata": {
        "id": "Or1AE21jCAbJ"
      },
      "execution_count": null,
      "outputs": []
    },
    {
      "cell_type": "markdown",
      "source": [
        "### Training Loop"
      ],
      "metadata": {
        "id": "eCTNNJEH3w3s"
      }
    },
    {
      "cell_type": "code",
      "source": [
        "callback = SaveMetricsCallback()\n",
        "trainer = pl.Trainer(max_epochs=1, callbacks=[callback])\n",
        "\n",
        "n_items = interaction_df.asin.nunique()\n",
        "embedding_size = 16\n",
        "\n",
        "train_loader = DataLoader(dataset, batch_size=256, shuffle=True)\n",
        "\n",
        "SASRec_model = SASRec(n_tokens=n_items,\n",
        "                          embedding_dim=16, d_model=16,\n",
        "                              num_heads=2, num_layers=1, dropout=.1, max_len=10)\n",
        "\n",
        "trainer.fit(SASRec_model, train_loader)"
      ],
      "metadata": {
        "id": "6wVk-w3_CAUn",
        "colab": {
          "base_uri": "https://localhost:8080/",
          "height": 531,
          "referenced_widgets": [
            "32e949f5d9e04a109941402a9267b6be",
            "7bc0ad12ab66408bb4fdf9abeea83670",
            "4c1fe706b66f4147a579ea3e2187d096",
            "f2c160a40b674379ab379dc8c14cd3a6",
            "9b93c3ac3aab45bc9d10835a078e2ce7",
            "83da240de1ac4550847710c104e7b376",
            "01159297bd6b40088702949a5b276d9c",
            "240c3445c0f146b5a9f47a41d04faeb4",
            "7a2306102c594ae899be2c62a1bcc5c4",
            "cd3db025180d4fa39e799b81ab33d1db",
            "459059138a0c4a8680b2a3d9e677d51b"
          ]
        },
        "outputId": "ef2a3f2c-e780-4ea7-d221-07450d377532"
      },
      "execution_count": null,
      "outputs": [
        {
          "output_type": "stream",
          "name": "stderr",
          "text": [
            "INFO:pytorch_lightning.utilities.rank_zero:GPU available: True (cuda), used: True\n",
            "INFO:pytorch_lightning.utilities.rank_zero:TPU available: False, using: 0 TPU cores\n",
            "INFO:pytorch_lightning.utilities.rank_zero:HPU available: False, using: 0 HPUs\n",
            "INFO:pytorch_lightning.accelerators.cuda:LOCAL_RANK: 0 - CUDA_VISIBLE_DEVICES: [0]\n",
            "INFO:pytorch_lightning.callbacks.model_summary:\n",
            "  | Name                | Type                    | Params | Mode \n",
            "------------------------------------------------------------------------\n",
            "0 | product_embedding   | Embedding               | 1.8 M  | train\n",
            "1 | position_embedding  | Embedding               | 160    | train\n",
            "2 | emb_dropout         | Dropout                 | 0      | train\n",
            "3 | transformer_encoder | TransformerEncoderLayer | 1.7 K  | train\n",
            "4 | fc                  | Linear                  | 1.9 M  | train\n",
            "------------------------------------------------------------------------\n",
            "3.8 M     Trainable params\n",
            "0         Non-trainable params\n",
            "3.8 M     Total params\n",
            "15.023    Total estimated model params size (MB)\n"
          ]
        },
        {
          "output_type": "display_data",
          "data": {
            "text/plain": [
              "Training: |          | 0/? [00:00<?, ?it/s]"
            ],
            "application/vnd.jupyter.widget-view+json": {
              "version_major": 2,
              "version_minor": 0,
              "model_id": "32e949f5d9e04a109941402a9267b6be"
            }
          },
          "metadata": {}
        },
        {
          "name": "stdout",
          "output_type": "stream",
          "text": [
            "> \u001b[0;32m<ipython-input-26-9d5e47bb23c7>\u001b[0m(18)\u001b[0;36mcommon_step\u001b[0;34m()\u001b[0m\n",
            "\u001b[0;32m     16 \u001b[0;31m    \u001b[0mpdb\u001b[0m\u001b[0;34m.\u001b[0m\u001b[0mset_trace\u001b[0m\u001b[0;34m(\u001b[0m\u001b[0;34m)\u001b[0m\u001b[0;34m\u001b[0m\u001b[0;34m\u001b[0m\u001b[0m\n",
            "\u001b[0m\u001b[0;32m     17 \u001b[0;31m    \u001b[0;31m# stop point\u001b[0m\u001b[0;34m\u001b[0m\u001b[0;34m\u001b[0m\u001b[0m\n",
            "\u001b[0m\u001b[0;32m---> 18 \u001b[0;31m    \u001b[0my_hat\u001b[0m \u001b[0;34m=\u001b[0m \u001b[0my_hat\u001b[0m\u001b[0;34m.\u001b[0m\u001b[0mreshape\u001b[0m\u001b[0;34m(\u001b[0m\u001b[0;34m(\u001b[0m\u001b[0mlen\u001b[0m\u001b[0;34m(\u001b[0m\u001b[0my_hat\u001b[0m\u001b[0;34m)\u001b[0m\u001b[0;34m*\u001b[0m\u001b[0my_hat\u001b[0m\u001b[0;34m.\u001b[0m\u001b[0mshape\u001b[0m\u001b[0;34m[\u001b[0m\u001b[0;36m1\u001b[0m\u001b[0;34m]\u001b[0m\u001b[0;34m,\u001b[0m \u001b[0my_hat\u001b[0m\u001b[0;34m.\u001b[0m\u001b[0mshape\u001b[0m\u001b[0;34m[\u001b[0m\u001b[0;34m-\u001b[0m\u001b[0;36m1\u001b[0m\u001b[0;34m]\u001b[0m\u001b[0;34m)\u001b[0m\u001b[0;34m)\u001b[0m\u001b[0;34m\u001b[0m\u001b[0;34m\u001b[0m\u001b[0m\n",
            "\u001b[0m\u001b[0;32m     19 \u001b[0;31m    \u001b[0my\u001b[0m \u001b[0;34m=\u001b[0m \u001b[0my\u001b[0m\u001b[0;34m.\u001b[0m\u001b[0mreshape\u001b[0m\u001b[0;34m(\u001b[0m\u001b[0;34m(\u001b[0m\u001b[0mlen\u001b[0m\u001b[0;34m(\u001b[0m\u001b[0my\u001b[0m\u001b[0;34m)\u001b[0m\u001b[0;34m*\u001b[0m\u001b[0my\u001b[0m\u001b[0;34m.\u001b[0m\u001b[0mshape\u001b[0m\u001b[0;34m[\u001b[0m\u001b[0;36m1\u001b[0m\u001b[0;34m]\u001b[0m\u001b[0;34m,\u001b[0m \u001b[0my\u001b[0m\u001b[0;34m.\u001b[0m\u001b[0mshape\u001b[0m\u001b[0;34m[\u001b[0m\u001b[0;34m-\u001b[0m\u001b[0;36m1\u001b[0m\u001b[0;34m]\u001b[0m\u001b[0;34m)\u001b[0m\u001b[0;34m)\u001b[0m\u001b[0;34m\u001b[0m\u001b[0;34m\u001b[0m\u001b[0m\n",
            "\u001b[0m\u001b[0;32m     20 \u001b[0;31m    \u001b[0mind\u001b[0m \u001b[0;34m=\u001b[0m \u001b[0mx\u001b[0m\u001b[0;34m[\u001b[0m\u001b[0;34m'strt_ind'\u001b[0m\u001b[0;34m]\u001b[0m\u001b[0;34m.\u001b[0m\u001b[0mview\u001b[0m\u001b[0;34m(\u001b[0m\u001b[0;34m-\u001b[0m\u001b[0;36m1\u001b[0m\u001b[0;34m)\u001b[0m \u001b[0;34m==\u001b[0m \u001b[0;32mTrue\u001b[0m\u001b[0;34m\u001b[0m\u001b[0;34m\u001b[0m\u001b[0m\n",
            "\u001b[0m\n",
            "ipdb> y_hat.size()\n",
            "torch.Size([256, 10, 113753])\n",
            "ipdb> q\n"
          ]
        }
      ]
    },
    {
      "cell_type": "code",
      "source": [
        "!nvidia-smi"
      ],
      "metadata": {
        "id": "gT9xASldCASE",
        "colab": {
          "base_uri": "https://localhost:8080/"
        },
        "outputId": "bafe5eb1-2ba4-4261-d6c9-2e05d41d6aef"
      },
      "execution_count": null,
      "outputs": [
        {
          "output_type": "stream",
          "name": "stdout",
          "text": [
            "Fri Aug  2 14:32:44 2024       \n",
            "+---------------------------------------------------------------------------------------+\n",
            "| NVIDIA-SMI 535.104.05             Driver Version: 535.104.05   CUDA Version: 12.2     |\n",
            "|-----------------------------------------+----------------------+----------------------+\n",
            "| GPU  Name                 Persistence-M | Bus-Id        Disp.A | Volatile Uncorr. ECC |\n",
            "| Fan  Temp   Perf          Pwr:Usage/Cap |         Memory-Usage | GPU-Util  Compute M. |\n",
            "|                                         |                      |               MIG M. |\n",
            "|=========================================+======================+======================|\n",
            "|   0  Tesla T4                       Off | 00000000:00:04.0 Off |                    0 |\n",
            "| N/A   72C    P0              34W /  70W |  14687MiB / 15360MiB |      0%      Default |\n",
            "|                                         |                      |                  N/A |\n",
            "+-----------------------------------------+----------------------+----------------------+\n",
            "                                                                                         \n",
            "+---------------------------------------------------------------------------------------+\n",
            "| Processes:                                                                            |\n",
            "|  GPU   GI   CI        PID   Type   Process name                            GPU Memory |\n",
            "|        ID   ID                                                             Usage      |\n",
            "|=======================================================================================|\n",
            "+---------------------------------------------------------------------------------------+\n"
          ]
        }
      ]
    },
    {
      "cell_type": "code",
      "source": [
        "t = torch.zeros((10, 100, 1000))"
      ],
      "metadata": {
        "id": "MTCZ7ERyBcCj"
      },
      "execution_count": null,
      "outputs": []
    },
    {
      "cell_type": "code",
      "source": [
        "t.size()"
      ],
      "metadata": {
        "colab": {
          "base_uri": "https://localhost:8080/"
        },
        "id": "KkkXEzkze4U5",
        "outputId": "e19865c1-d0fb-4c13-b00a-2ed87d01836b"
      },
      "execution_count": null,
      "outputs": [
        {
          "output_type": "execute_result",
          "data": {
            "text/plain": [
              "torch.Size([10, 100, 1000])"
            ]
          },
          "metadata": {},
          "execution_count": 31
        }
      ]
    },
    {
      "cell_type": "code",
      "source": [
        "t.permute(1,0,2).size()"
      ],
      "metadata": {
        "colab": {
          "base_uri": "https://localhost:8080/"
        },
        "id": "J-2GoAyXe59G",
        "outputId": "e814258c-e2aa-4f82-a8c6-1d70695dd03e"
      },
      "execution_count": null,
      "outputs": [
        {
          "output_type": "execute_result",
          "data": {
            "text/plain": [
              "torch.Size([100, 10, 1000])"
            ]
          },
          "metadata": {},
          "execution_count": 32
        }
      ]
    },
    {
      "cell_type": "markdown",
      "source": [
        "## Bert4Rec"
      ],
      "metadata": {
        "id": "LnKyrdfuBctB"
      }
    },
    {
      "cell_type": "code",
      "source": [],
      "metadata": {
        "id": "oJQpKTTkBeod"
      },
      "execution_count": null,
      "outputs": []
    },
    {
      "cell_type": "code",
      "source": [],
      "metadata": {
        "id": "SpIi5GTBBerW"
      },
      "execution_count": null,
      "outputs": []
    },
    {
      "cell_type": "code",
      "source": [],
      "metadata": {
        "id": "vjfcLHOnBeur"
      },
      "execution_count": null,
      "outputs": []
    },
    {
      "cell_type": "markdown",
      "source": [
        "## Sequential Model"
      ],
      "metadata": {
        "id": "us6JB5hyFmvW"
      }
    },
    {
      "cell_type": "code",
      "source": [
        "class seq_Dataset(Dataset):\n",
        "  def __init__(self, cust_behavior, context_window=10)\n",
        "\n",
        "    self.context_window = context_window\n",
        "    self.product_features =\n",
        "    self.cust_behavior = cust_behavior\n",
        "    self.parent_idx = parent_idx_tensor\n",
        "\n",
        "  def pad_df(self, cust_behavior):\n",
        "    data = {}\n",
        "    for col\n",
        "\n",
        "\n",
        "  def __getitems__(self, idx):\n",
        "    feature_token = self.get_values"
      ],
      "metadata": {
        "id": "xriCm16S5fiU"
      },
      "execution_count": null,
      "outputs": []
    },
    {
      "cell_type": "code",
      "source": [
        "#interaction_df.sort_values('timestmap', ascending=False).groupby('user_id')['rating'].apply(lambda x: x)"
      ],
      "metadata": {
        "id": "zJZ6LDcWoOf3"
      },
      "execution_count": null,
      "outputs": []
    },
    {
      "cell_type": "code",
      "source": [
        "interaction_df"
      ],
      "metadata": {
        "colab": {
          "base_uri": "https://localhost:8080/",
          "height": 1000
        },
        "id": "toQf8j3PCCYK",
        "outputId": "3fa2fa4e-bd63-4f5e-94d3-7a4073da3269"
      },
      "execution_count": null,
      "outputs": [
        {
          "output_type": "execute_result",
          "data": {
            "text/plain": [
              "          rating                             title  \\\n",
              "2925         3.0        Not quite what I expected.   \n",
              "6295         5.0                       Great read!   \n",
              "6296         5.0                                👍🏽   \n",
              "6297         5.0  Great condition, love this deck!   \n",
              "6298         1.0                           Boring!   \n",
              "...          ...                               ...   \n",
              "29474574     5.0                 Daughter loved it   \n",
              "29474605     5.0                      Oh Brothers!   \n",
              "29474606     4.0                     Bourne again?   \n",
              "29474710     5.0                        Five Stars   \n",
              "29474711     4.0                        Four Stars   \n",
              "\n",
              "                                                       text images  \\\n",
              "2925      It was nice, but not what I expected. I still ...     []   \n",
              "6295      Great read. One for me, one as a gift. Friend ...     []   \n",
              "6296                                                     👍🏽     []   \n",
              "6297      I love this deck of cards. I've bought it as g...     []   \n",
              "6298      Geez! What's all the hype about?? Absolutely n...     []   \n",
              "...                                                     ...    ...   \n",
              "29474574  My daughter hugged the books on Christmas morn...     []   \n",
              "29474605  Another terrific tale from Robert Ferrigno.  N...     []   \n",
              "29474606  I enjoyed this book.  Partially because it was...     []   \n",
              "29474710                                          Fun class     []   \n",
              "29474711                                       Easy to read     []   \n",
              "\n",
              "                asin parent_asin                       user_id      timestamp  \\\n",
              "2925      1338252801  1338252801  AH4FS5WFXP6G4REX7BSQFRLRLNZQ  1610585135448   \n",
              "6295      0060853964  0060853964  AFVFLOD4M7Y3LOVDOYOC4IL34XQQ  1542813324549   \n",
              "6296      0761169083  0761169083  AFVFLOD4M7Y3LOVDOYOC4IL34XQQ  1482324158000   \n",
              "6297      1561380792  1561380792  AFVFLOD4M7Y3LOVDOYOC4IL34XQQ  1416085800000   \n",
              "6298      0345803485  0345803485  AFVFLOD4M7Y3LOVDOYOC4IL34XQQ  1361917994000   \n",
              "...              ...         ...                           ...            ...   \n",
              "29474574  1454903597  1454903597  AF4K4X523XERW6VAM7TONCFJXTZQ  1388592808000   \n",
              "29474605  0375401253  0375401253  AF66SYN54HL2HK5T3JWPF4G4ZLVQ  1012375362000   \n",
              "29474606  0385479611  0385479611  AF66SYN54HL2HK5T3JWPF4G4ZLVQ  1012374866000   \n",
              "29474710  1449697208  1449697208  AHHXPDYK3IVYF3ALMXZQT2VPSGZQ  1431893209000   \n",
              "29474711  0136129080  0136129080  AHHXPDYK3IVYF3ALMXZQT2VPSGZQ  1417733949000   \n",
              "\n",
              "          helpful_vote  verified_purchase  \n",
              "2925                 0               True  \n",
              "6295                 0               True  \n",
              "6296                 0               True  \n",
              "6297                 1               True  \n",
              "6298                 2               True  \n",
              "...                ...                ...  \n",
              "29474574             0               True  \n",
              "29474605             0              False  \n",
              "29474606             2              False  \n",
              "29474710             0               True  \n",
              "29474711             0               True  \n",
              "\n",
              "[145713 rows x 10 columns]"
            ],
            "text/html": [
              "\n",
              "  <div id=\"df-1b617852-3d6e-4c3f-8b5d-c6159c3e96ed\" class=\"colab-df-container\">\n",
              "    <div>\n",
              "<style scoped>\n",
              "    .dataframe tbody tr th:only-of-type {\n",
              "        vertical-align: middle;\n",
              "    }\n",
              "\n",
              "    .dataframe tbody tr th {\n",
              "        vertical-align: top;\n",
              "    }\n",
              "\n",
              "    .dataframe thead th {\n",
              "        text-align: right;\n",
              "    }\n",
              "</style>\n",
              "<table border=\"1\" class=\"dataframe\">\n",
              "  <thead>\n",
              "    <tr style=\"text-align: right;\">\n",
              "      <th></th>\n",
              "      <th>rating</th>\n",
              "      <th>title</th>\n",
              "      <th>text</th>\n",
              "      <th>images</th>\n",
              "      <th>asin</th>\n",
              "      <th>parent_asin</th>\n",
              "      <th>user_id</th>\n",
              "      <th>timestamp</th>\n",
              "      <th>helpful_vote</th>\n",
              "      <th>verified_purchase</th>\n",
              "    </tr>\n",
              "  </thead>\n",
              "  <tbody>\n",
              "    <tr>\n",
              "      <th>2925</th>\n",
              "      <td>3.0</td>\n",
              "      <td>Not quite what I expected.</td>\n",
              "      <td>It was nice, but not what I expected. I still ...</td>\n",
              "      <td>[]</td>\n",
              "      <td>1338252801</td>\n",
              "      <td>1338252801</td>\n",
              "      <td>AH4FS5WFXP6G4REX7BSQFRLRLNZQ</td>\n",
              "      <td>1610585135448</td>\n",
              "      <td>0</td>\n",
              "      <td>True</td>\n",
              "    </tr>\n",
              "    <tr>\n",
              "      <th>6295</th>\n",
              "      <td>5.0</td>\n",
              "      <td>Great read!</td>\n",
              "      <td>Great read. One for me, one as a gift. Friend ...</td>\n",
              "      <td>[]</td>\n",
              "      <td>0060853964</td>\n",
              "      <td>0060853964</td>\n",
              "      <td>AFVFLOD4M7Y3LOVDOYOC4IL34XQQ</td>\n",
              "      <td>1542813324549</td>\n",
              "      <td>0</td>\n",
              "      <td>True</td>\n",
              "    </tr>\n",
              "    <tr>\n",
              "      <th>6296</th>\n",
              "      <td>5.0</td>\n",
              "      <td>👍🏽</td>\n",
              "      <td>👍🏽</td>\n",
              "      <td>[]</td>\n",
              "      <td>0761169083</td>\n",
              "      <td>0761169083</td>\n",
              "      <td>AFVFLOD4M7Y3LOVDOYOC4IL34XQQ</td>\n",
              "      <td>1482324158000</td>\n",
              "      <td>0</td>\n",
              "      <td>True</td>\n",
              "    </tr>\n",
              "    <tr>\n",
              "      <th>6297</th>\n",
              "      <td>5.0</td>\n",
              "      <td>Great condition, love this deck!</td>\n",
              "      <td>I love this deck of cards. I've bought it as g...</td>\n",
              "      <td>[]</td>\n",
              "      <td>1561380792</td>\n",
              "      <td>1561380792</td>\n",
              "      <td>AFVFLOD4M7Y3LOVDOYOC4IL34XQQ</td>\n",
              "      <td>1416085800000</td>\n",
              "      <td>1</td>\n",
              "      <td>True</td>\n",
              "    </tr>\n",
              "    <tr>\n",
              "      <th>6298</th>\n",
              "      <td>1.0</td>\n",
              "      <td>Boring!</td>\n",
              "      <td>Geez! What's all the hype about?? Absolutely n...</td>\n",
              "      <td>[]</td>\n",
              "      <td>0345803485</td>\n",
              "      <td>0345803485</td>\n",
              "      <td>AFVFLOD4M7Y3LOVDOYOC4IL34XQQ</td>\n",
              "      <td>1361917994000</td>\n",
              "      <td>2</td>\n",
              "      <td>True</td>\n",
              "    </tr>\n",
              "    <tr>\n",
              "      <th>...</th>\n",
              "      <td>...</td>\n",
              "      <td>...</td>\n",
              "      <td>...</td>\n",
              "      <td>...</td>\n",
              "      <td>...</td>\n",
              "      <td>...</td>\n",
              "      <td>...</td>\n",
              "      <td>...</td>\n",
              "      <td>...</td>\n",
              "      <td>...</td>\n",
              "    </tr>\n",
              "    <tr>\n",
              "      <th>29474574</th>\n",
              "      <td>5.0</td>\n",
              "      <td>Daughter loved it</td>\n",
              "      <td>My daughter hugged the books on Christmas morn...</td>\n",
              "      <td>[]</td>\n",
              "      <td>1454903597</td>\n",
              "      <td>1454903597</td>\n",
              "      <td>AF4K4X523XERW6VAM7TONCFJXTZQ</td>\n",
              "      <td>1388592808000</td>\n",
              "      <td>0</td>\n",
              "      <td>True</td>\n",
              "    </tr>\n",
              "    <tr>\n",
              "      <th>29474605</th>\n",
              "      <td>5.0</td>\n",
              "      <td>Oh Brothers!</td>\n",
              "      <td>Another terrific tale from Robert Ferrigno.  N...</td>\n",
              "      <td>[]</td>\n",
              "      <td>0375401253</td>\n",
              "      <td>0375401253</td>\n",
              "      <td>AF66SYN54HL2HK5T3JWPF4G4ZLVQ</td>\n",
              "      <td>1012375362000</td>\n",
              "      <td>0</td>\n",
              "      <td>False</td>\n",
              "    </tr>\n",
              "    <tr>\n",
              "      <th>29474606</th>\n",
              "      <td>4.0</td>\n",
              "      <td>Bourne again?</td>\n",
              "      <td>I enjoyed this book.  Partially because it was...</td>\n",
              "      <td>[]</td>\n",
              "      <td>0385479611</td>\n",
              "      <td>0385479611</td>\n",
              "      <td>AF66SYN54HL2HK5T3JWPF4G4ZLVQ</td>\n",
              "      <td>1012374866000</td>\n",
              "      <td>2</td>\n",
              "      <td>False</td>\n",
              "    </tr>\n",
              "    <tr>\n",
              "      <th>29474710</th>\n",
              "      <td>5.0</td>\n",
              "      <td>Five Stars</td>\n",
              "      <td>Fun class</td>\n",
              "      <td>[]</td>\n",
              "      <td>1449697208</td>\n",
              "      <td>1449697208</td>\n",
              "      <td>AHHXPDYK3IVYF3ALMXZQT2VPSGZQ</td>\n",
              "      <td>1431893209000</td>\n",
              "      <td>0</td>\n",
              "      <td>True</td>\n",
              "    </tr>\n",
              "    <tr>\n",
              "      <th>29474711</th>\n",
              "      <td>4.0</td>\n",
              "      <td>Four Stars</td>\n",
              "      <td>Easy to read</td>\n",
              "      <td>[]</td>\n",
              "      <td>0136129080</td>\n",
              "      <td>0136129080</td>\n",
              "      <td>AHHXPDYK3IVYF3ALMXZQT2VPSGZQ</td>\n",
              "      <td>1417733949000</td>\n",
              "      <td>0</td>\n",
              "      <td>True</td>\n",
              "    </tr>\n",
              "  </tbody>\n",
              "</table>\n",
              "<p>145713 rows × 10 columns</p>\n",
              "</div>\n",
              "    <div class=\"colab-df-buttons\">\n",
              "\n",
              "  <div class=\"colab-df-container\">\n",
              "    <button class=\"colab-df-convert\" onclick=\"convertToInteractive('df-1b617852-3d6e-4c3f-8b5d-c6159c3e96ed')\"\n",
              "            title=\"Convert this dataframe to an interactive table.\"\n",
              "            style=\"display:none;\">\n",
              "\n",
              "  <svg xmlns=\"http://www.w3.org/2000/svg\" height=\"24px\" viewBox=\"0 -960 960 960\">\n",
              "    <path d=\"M120-120v-720h720v720H120Zm60-500h600v-160H180v160Zm220 220h160v-160H400v160Zm0 220h160v-160H400v160ZM180-400h160v-160H180v160Zm440 0h160v-160H620v160ZM180-180h160v-160H180v160Zm440 0h160v-160H620v160Z\"/>\n",
              "  </svg>\n",
              "    </button>\n",
              "\n",
              "  <style>\n",
              "    .colab-df-container {\n",
              "      display:flex;\n",
              "      gap: 12px;\n",
              "    }\n",
              "\n",
              "    .colab-df-convert {\n",
              "      background-color: #E8F0FE;\n",
              "      border: none;\n",
              "      border-radius: 50%;\n",
              "      cursor: pointer;\n",
              "      display: none;\n",
              "      fill: #1967D2;\n",
              "      height: 32px;\n",
              "      padding: 0 0 0 0;\n",
              "      width: 32px;\n",
              "    }\n",
              "\n",
              "    .colab-df-convert:hover {\n",
              "      background-color: #E2EBFA;\n",
              "      box-shadow: 0px 1px 2px rgba(60, 64, 67, 0.3), 0px 1px 3px 1px rgba(60, 64, 67, 0.15);\n",
              "      fill: #174EA6;\n",
              "    }\n",
              "\n",
              "    .colab-df-buttons div {\n",
              "      margin-bottom: 4px;\n",
              "    }\n",
              "\n",
              "    [theme=dark] .colab-df-convert {\n",
              "      background-color: #3B4455;\n",
              "      fill: #D2E3FC;\n",
              "    }\n",
              "\n",
              "    [theme=dark] .colab-df-convert:hover {\n",
              "      background-color: #434B5C;\n",
              "      box-shadow: 0px 1px 3px 1px rgba(0, 0, 0, 0.15);\n",
              "      filter: drop-shadow(0px 1px 2px rgba(0, 0, 0, 0.3));\n",
              "      fill: #FFFFFF;\n",
              "    }\n",
              "  </style>\n",
              "\n",
              "    <script>\n",
              "      const buttonEl =\n",
              "        document.querySelector('#df-1b617852-3d6e-4c3f-8b5d-c6159c3e96ed button.colab-df-convert');\n",
              "      buttonEl.style.display =\n",
              "        google.colab.kernel.accessAllowed ? 'block' : 'none';\n",
              "\n",
              "      async function convertToInteractive(key) {\n",
              "        const element = document.querySelector('#df-1b617852-3d6e-4c3f-8b5d-c6159c3e96ed');\n",
              "        const dataTable =\n",
              "          await google.colab.kernel.invokeFunction('convertToInteractive',\n",
              "                                                    [key], {});\n",
              "        if (!dataTable) return;\n",
              "\n",
              "        const docLinkHtml = 'Like what you see? Visit the ' +\n",
              "          '<a target=\"_blank\" href=https://colab.research.google.com/notebooks/data_table.ipynb>data table notebook</a>'\n",
              "          + ' to learn more about interactive tables.';\n",
              "        element.innerHTML = '';\n",
              "        dataTable['output_type'] = 'display_data';\n",
              "        await google.colab.output.renderOutput(dataTable, element);\n",
              "        const docLink = document.createElement('div');\n",
              "        docLink.innerHTML = docLinkHtml;\n",
              "        element.appendChild(docLink);\n",
              "      }\n",
              "    </script>\n",
              "  </div>\n",
              "\n",
              "\n",
              "<div id=\"df-36317f43-c5e6-4bf1-85f9-ce2c6f3f368f\">\n",
              "  <button class=\"colab-df-quickchart\" onclick=\"quickchart('df-36317f43-c5e6-4bf1-85f9-ce2c6f3f368f')\"\n",
              "            title=\"Suggest charts\"\n",
              "            style=\"display:none;\">\n",
              "\n",
              "<svg xmlns=\"http://www.w3.org/2000/svg\" height=\"24px\"viewBox=\"0 0 24 24\"\n",
              "     width=\"24px\">\n",
              "    <g>\n",
              "        <path d=\"M19 3H5c-1.1 0-2 .9-2 2v14c0 1.1.9 2 2 2h14c1.1 0 2-.9 2-2V5c0-1.1-.9-2-2-2zM9 17H7v-7h2v7zm4 0h-2V7h2v10zm4 0h-2v-4h2v4z\"/>\n",
              "    </g>\n",
              "</svg>\n",
              "  </button>\n",
              "\n",
              "<style>\n",
              "  .colab-df-quickchart {\n",
              "      --bg-color: #E8F0FE;\n",
              "      --fill-color: #1967D2;\n",
              "      --hover-bg-color: #E2EBFA;\n",
              "      --hover-fill-color: #174EA6;\n",
              "      --disabled-fill-color: #AAA;\n",
              "      --disabled-bg-color: #DDD;\n",
              "  }\n",
              "\n",
              "  [theme=dark] .colab-df-quickchart {\n",
              "      --bg-color: #3B4455;\n",
              "      --fill-color: #D2E3FC;\n",
              "      --hover-bg-color: #434B5C;\n",
              "      --hover-fill-color: #FFFFFF;\n",
              "      --disabled-bg-color: #3B4455;\n",
              "      --disabled-fill-color: #666;\n",
              "  }\n",
              "\n",
              "  .colab-df-quickchart {\n",
              "    background-color: var(--bg-color);\n",
              "    border: none;\n",
              "    border-radius: 50%;\n",
              "    cursor: pointer;\n",
              "    display: none;\n",
              "    fill: var(--fill-color);\n",
              "    height: 32px;\n",
              "    padding: 0;\n",
              "    width: 32px;\n",
              "  }\n",
              "\n",
              "  .colab-df-quickchart:hover {\n",
              "    background-color: var(--hover-bg-color);\n",
              "    box-shadow: 0 1px 2px rgba(60, 64, 67, 0.3), 0 1px 3px 1px rgba(60, 64, 67, 0.15);\n",
              "    fill: var(--button-hover-fill-color);\n",
              "  }\n",
              "\n",
              "  .colab-df-quickchart-complete:disabled,\n",
              "  .colab-df-quickchart-complete:disabled:hover {\n",
              "    background-color: var(--disabled-bg-color);\n",
              "    fill: var(--disabled-fill-color);\n",
              "    box-shadow: none;\n",
              "  }\n",
              "\n",
              "  .colab-df-spinner {\n",
              "    border: 2px solid var(--fill-color);\n",
              "    border-color: transparent;\n",
              "    border-bottom-color: var(--fill-color);\n",
              "    animation:\n",
              "      spin 1s steps(1) infinite;\n",
              "  }\n",
              "\n",
              "  @keyframes spin {\n",
              "    0% {\n",
              "      border-color: transparent;\n",
              "      border-bottom-color: var(--fill-color);\n",
              "      border-left-color: var(--fill-color);\n",
              "    }\n",
              "    20% {\n",
              "      border-color: transparent;\n",
              "      border-left-color: var(--fill-color);\n",
              "      border-top-color: var(--fill-color);\n",
              "    }\n",
              "    30% {\n",
              "      border-color: transparent;\n",
              "      border-left-color: var(--fill-color);\n",
              "      border-top-color: var(--fill-color);\n",
              "      border-right-color: var(--fill-color);\n",
              "    }\n",
              "    40% {\n",
              "      border-color: transparent;\n",
              "      border-right-color: var(--fill-color);\n",
              "      border-top-color: var(--fill-color);\n",
              "    }\n",
              "    60% {\n",
              "      border-color: transparent;\n",
              "      border-right-color: var(--fill-color);\n",
              "    }\n",
              "    80% {\n",
              "      border-color: transparent;\n",
              "      border-right-color: var(--fill-color);\n",
              "      border-bottom-color: var(--fill-color);\n",
              "    }\n",
              "    90% {\n",
              "      border-color: transparent;\n",
              "      border-bottom-color: var(--fill-color);\n",
              "    }\n",
              "  }\n",
              "</style>\n",
              "\n",
              "  <script>\n",
              "    async function quickchart(key) {\n",
              "      const quickchartButtonEl =\n",
              "        document.querySelector('#' + key + ' button');\n",
              "      quickchartButtonEl.disabled = true;  // To prevent multiple clicks.\n",
              "      quickchartButtonEl.classList.add('colab-df-spinner');\n",
              "      try {\n",
              "        const charts = await google.colab.kernel.invokeFunction(\n",
              "            'suggestCharts', [key], {});\n",
              "      } catch (error) {\n",
              "        console.error('Error during call to suggestCharts:', error);\n",
              "      }\n",
              "      quickchartButtonEl.classList.remove('colab-df-spinner');\n",
              "      quickchartButtonEl.classList.add('colab-df-quickchart-complete');\n",
              "    }\n",
              "    (() => {\n",
              "      let quickchartButtonEl =\n",
              "        document.querySelector('#df-36317f43-c5e6-4bf1-85f9-ce2c6f3f368f button');\n",
              "      quickchartButtonEl.style.display =\n",
              "        google.colab.kernel.accessAllowed ? 'block' : 'none';\n",
              "    })();\n",
              "  </script>\n",
              "</div>\n",
              "\n",
              "  <div id=\"id_84f67d7f-3d6e-4a06-8453-6ff584622f0c\">\n",
              "    <style>\n",
              "      .colab-df-generate {\n",
              "        background-color: #E8F0FE;\n",
              "        border: none;\n",
              "        border-radius: 50%;\n",
              "        cursor: pointer;\n",
              "        display: none;\n",
              "        fill: #1967D2;\n",
              "        height: 32px;\n",
              "        padding: 0 0 0 0;\n",
              "        width: 32px;\n",
              "      }\n",
              "\n",
              "      .colab-df-generate:hover {\n",
              "        background-color: #E2EBFA;\n",
              "        box-shadow: 0px 1px 2px rgba(60, 64, 67, 0.3), 0px 1px 3px 1px rgba(60, 64, 67, 0.15);\n",
              "        fill: #174EA6;\n",
              "      }\n",
              "\n",
              "      [theme=dark] .colab-df-generate {\n",
              "        background-color: #3B4455;\n",
              "        fill: #D2E3FC;\n",
              "      }\n",
              "\n",
              "      [theme=dark] .colab-df-generate:hover {\n",
              "        background-color: #434B5C;\n",
              "        box-shadow: 0px 1px 3px 1px rgba(0, 0, 0, 0.15);\n",
              "        filter: drop-shadow(0px 1px 2px rgba(0, 0, 0, 0.3));\n",
              "        fill: #FFFFFF;\n",
              "      }\n",
              "    </style>\n",
              "    <button class=\"colab-df-generate\" onclick=\"generateWithVariable('interaction_df')\"\n",
              "            title=\"Generate code using this dataframe.\"\n",
              "            style=\"display:none;\">\n",
              "\n",
              "  <svg xmlns=\"http://www.w3.org/2000/svg\" height=\"24px\"viewBox=\"0 0 24 24\"\n",
              "       width=\"24px\">\n",
              "    <path d=\"M7,19H8.4L18.45,9,17,7.55,7,17.6ZM5,21V16.75L18.45,3.32a2,2,0,0,1,2.83,0l1.4,1.43a1.91,1.91,0,0,1,.58,1.4,1.91,1.91,0,0,1-.58,1.4L9.25,21ZM18.45,9,17,7.55Zm-12,3A5.31,5.31,0,0,0,4.9,8.1,5.31,5.31,0,0,0,1,6.5,5.31,5.31,0,0,0,4.9,4.9,5.31,5.31,0,0,0,6.5,1,5.31,5.31,0,0,0,8.1,4.9,5.31,5.31,0,0,0,12,6.5,5.46,5.46,0,0,0,6.5,12Z\"/>\n",
              "  </svg>\n",
              "    </button>\n",
              "    <script>\n",
              "      (() => {\n",
              "      const buttonEl =\n",
              "        document.querySelector('#id_84f67d7f-3d6e-4a06-8453-6ff584622f0c button.colab-df-generate');\n",
              "      buttonEl.style.display =\n",
              "        google.colab.kernel.accessAllowed ? 'block' : 'none';\n",
              "\n",
              "      buttonEl.onclick = () => {\n",
              "        google.colab.notebook.generateWithVariable('interaction_df');\n",
              "      }\n",
              "      })();\n",
              "    </script>\n",
              "  </div>\n",
              "\n",
              "    </div>\n",
              "  </div>\n"
            ],
            "application/vnd.google.colaboratory.intrinsic+json": {
              "type": "dataframe",
              "variable_name": "interaction_df"
            }
          },
          "metadata": {},
          "execution_count": 63
        }
      ]
    },
    {
      "cell_type": "code",
      "source": [
        "class PlTrainer(pl.LightningModule):\n",
        "\n",
        "  def __init__(self):\n",
        "    super().__init__()\n",
        "    self.criterion = F.binary_cross_entropy\n",
        "\n",
        "  def configure_callbacks(self):\n",
        "    optimizer = torch.optim.Adam(self.parameters(), lr=.001)\n",
        "    return optimizer\n",
        "\n",
        "  def common_step(self, batch, batch_idx):\n",
        "    x, y = batch\n",
        "    y_hat = self(x, causal=True)\n",
        "\n",
        "    # stop point\n",
        "    y_hat = y_hat.reshape((len(y_hat)*y_hat.shape[1], y_hat.shape[-1]))\n",
        "    y = y.reshape((len(y)*y.shape[1], y.shape[-1]))\n",
        "    ind = x['strt_ind'].view(-1) == True\n",
        "\n",
        "    y_hat = y_hat[ind]\n",
        "    y = y[ind]\n",
        "\n",
        "    y_hat = y_hat[:, 1:]\n",
        "    y = y[:, 1:]\n",
        "\n",
        "\n",
        "    loss = self.criterion(y_hat, y)\n",
        "\n",
        "    return loss\n",
        "\n",
        "  def training_step(self, batch, batch_idx):\n",
        "    loss = self.common_step(batch, batch_idx)\n",
        "    self.log('train_loss', loss, on_epoch=True, prog_bar=True, logger=True, on_step=False)\n",
        "    return loss\n",
        "\n",
        "  def validation_step(self, batch, batch_idx):\n",
        "    loss = self.common_step(batch, batch_idx)\n",
        "    self.log('val_loss', loss, on_epoch=True, prog_bar=True, logger=True, on_step=False)\n",
        "    return loss"
      ],
      "metadata": {
        "id": "qjkVpcBfuIhB"
      },
      "execution_count": null,
      "outputs": []
    },
    {
      "cell_type": "code",
      "source": [
        "class PositionalEncoding(nn.Module):\n",
        "    def __init__(self, d_model: int,\n",
        "                  droupout: float=.1, max_len: int=5000):\n",
        "        super().__init__()\n",
        "        self.dropout = nn.Dropout(p=dropout)\n",
        "\n",
        "        # Compute the positional encodings once in log space.\n",
        "        pe = torch.zeros(max_len, d_model)\n",
        "        position = torch.arange(0, max_len, dtype=torch.float).unsqueeze(1)\n",
        "        div_term = torch.exp(torch.arange(0, d_model, 2).float() * (-np.log(10000.0) / d_model))\n",
        "        pe[:, 0::2] = torch.sin(position * div_term)\n",
        "        pe[:, 1::2] = torch.cos(position * div_term)\n",
        "        pe = pe.unsqueeze(0).transpose(0, 1)\n",
        "\n",
        "        self.register_buffer('pe', pe) # registers for as part of model state, nontrainable parameter\n",
        "\n",
        "    def forward(self, x):\n",
        "        return x + self.pe[:x.size(0), :]"
      ],
      "metadata": {
        "id": "jea3elNAFo5Y"
      },
      "execution_count": null,
      "outputs": []
    },
    {
      "cell_type": "code",
      "source": [
        "class TabTransformer(pl.LightningModule):\n",
        "  def __init__(self, num_items, d_model, nhead,\n",
        "               num_encoder_layers, dim_feedforward,\n",
        "               max_len, dropout=0.1):\n",
        "    self.d_model = d_model\n",
        "    self.contextual_embedding = nn.TransformerEncoderLayer(\n",
        "        d_model, nhead, dim_feedforward, dropout\n",
        "    )\n",
        "\n",
        "  def forward(self, x: list):\n",
        "    xs = []\n",
        "    b,t,c, = x[0].shape\n",
        "\n",
        "    for feature in x:\n",
        "      xs.append(feature.reshape((b*t, 1, c)))\n",
        "\n",
        "    xs = torch.concatenate(xs, dim=1)\n",
        "    xs = self.contextual_embedding(xs)\n",
        "    xs = xs.reshape((b, t, c*len(x)))\n",
        "    return xs"
      ],
      "metadata": {
        "id": "eWq1D3-h3Hcd"
      },
      "execution_count": null,
      "outputs": []
    },
    {
      "cell_type": "code",
      "source": [
        "class TransformerModel(PlTrainer):\n",
        "  # embed seperately, then layer norm, # more dim for contexxtual dim,\n",
        "  # multiple laters for self attention, layernorm, a couple linear layers to shrink size to final output\n",
        "\n",
        "\n",
        "  def __init__(self, num_items, d_model, nhead,\n",
        "                num_encoder_layers, dim_feedforward,\n",
        "                max_len, dropout=0.1):\n",
        "      super().__init__()\n",
        "      self.item_embedding = nn.Embedding(num_items, d_model)\n",
        "      self.position_embedding = PositionalEncoding(d_model, max_len)\n",
        "      self.transformer_encoder = nn.TransformerEncoder(\n",
        "          nn.TransformerEncoderLayer(d_model, nhead, dim_feedforward, dropout),\n",
        "          num_encoder_layers\n",
        "      )\n",
        "      self.norm = nn.LayerNorm(d_model)\n",
        "      self.linear = nn.Linear(d_model, num_items)\n",
        "      self.dropout = nn.Dropout(dropout)\n",
        "      self.d_model = d_model\n",
        "\n",
        "  @classmethod\n",
        "  def from_pretrained(cls, PATH):\n",
        "\n",
        "    params = json.load(open(PATH + '/params.json', 'r'))\n",
        "    model = cls(**params)\n",
        "    model.load_state_dict(torch.load(PATH+ '/model.json'))\n",
        "    model.__dict__.update(params)\n",
        "    model.params.update(params)\n",
        "    return model\n",
        "\n",
        "  def forward(self, src, src_mask):\n",
        "      src = self.item_embedding(src) * np.sqrt(self.d_model)\n",
        "      src = self.position_embedding(src)\n",
        "      output = self.transformer_encoder(src)\n",
        "      output = self.linear(output)\n",
        "\n",
        "\n",
        "      # embedding layers\n",
        "      self.norm(self.apex(src['apex']))\n",
        "\n",
        "      # seasonal embeddings\n",
        "      torch.sin(2*3.14*src['dow']/7)\n",
        "      torch.cos(2*3.14*src['dow']/7)\n",
        "\n",
        "      seasonal_embed = torch.cat([...])\n",
        "      self.norm(self.seasonal_embed(seasonal_em))\n",
        "\n",
        "      # SASRec\n",
        "      item_em = self.product_embedding(src['seq'][:, :, -1]) #3d to 2D token embeddings\n",
        "      item_em = self.prod_encoder(item_em) + seasonal_em\n",
        "      item_encoded = self.item_encoder(item_em, src_mask=src_mask)\n",
        "\n",
        "\n",
        "      item_encoded = self.item_encoder(item_em, src_mask=src_mask) + item_em # why add this back in?\n",
        "\n",
        "      ft_em = self.contextual_em([...])\n",
        "      output = self.norm(ft_em)\n",
        "      output = self.linear(output)\n",
        "\n",
        "      return output\n",
        "\n",
        "  def save(self, PATH=None):\n",
        "    \"\"\"\n",
        "    Save model to PATH\n",
        "    \"\"\"\n",
        "\n",
        "    if not os.path.exists(PATH):\n",
        "      os.makedirs(PATH)\n",
        "\n",
        "    torch.save(self.state_dict(), PATH + '/model.json')\n",
        "    params = {}\n",
        "\n",
        "    for key, value in self.__dict__.items():\n",
        "      if type(value) in (type('s'), type(1), type(1.)):\n",
        "        params.update({key:value})\n",
        "    json.dump(params, open(PATH + '/params.json', 'w'))\n",
        "    self.params.updates(params)"
      ],
      "metadata": {
        "id": "8m81jCeLJKcq"
      },
      "execution_count": null,
      "outputs": []
    },
    {
      "cell_type": "code",
      "source": [],
      "metadata": {
        "id": "zi7r8XEZ2lJH"
      },
      "execution_count": null,
      "outputs": []
    },
    {
      "cell_type": "markdown",
      "source": [
        "## BERT from Scratch\n",
        "\n",
        "\n",
        "Also build `TransformerEncoderLayer` from scratch"
      ],
      "metadata": {
        "id": "NCCEgxUuS3Ja"
      }
    },
    {
      "cell_type": "code",
      "source": [
        "vocab_size = 30000\n",
        "n_segments = 3\n",
        "max_len = 512\n",
        "embedding_dim = 768\n",
        "n_layers = 12\n",
        "attn_heads = 12\n",
        "dropout = .1\n",
        "\n",
        "class BERTEmbedding(nn.Module):\n",
        "  def __init__(self, vocab_size, n_segments, max_len, embedding_dim, dropout):\n",
        "    super().__init__()\n",
        "\n",
        "    self.token_embedding = nn.Embedding(vocab_size, embedding_dim)\n",
        "    self.seg_embedding = nn.Embedding(n_segments, embedding_dim)\n",
        "    self.position_embedding = nn.Embedding(max_len, embedding_dim)\n",
        "\n",
        "    self.drop = nn.Dropout(dropout)\n",
        "    self.pos_inp = torch.tensor([i for i in range(max_len)])\n",
        "\n",
        "\n",
        "  def forward(self, seq, seg):\n",
        "    embed_val = self.token_embedding(seq) + self.seg_embedding(seg) + self.position_embedding(self.pos_inp)\n",
        "    return embed_val\n",
        "\n",
        "class BERT(nn.Module):\n",
        "  def __init__(self,\n",
        "               vocab_size,\n",
        "               n_segments,\n",
        "               max_len,\n",
        "               embedding_dim,\n",
        "               n_layers,\n",
        "               attn_heads,\n",
        "               dropout):\n",
        "    super().__init__()\n",
        "\n",
        "    self.embedding = BERTEmbedding(vocab_size, n_segments, max_len, embedding_dim, dropout)\n",
        "    self.encoder_layer= nn.TransformerEncoderLayer(embedding_dim, attn_heads, embed_dim=4)\n",
        "    self.encoder_block = nn.TransformerEncoder(self.encoder_layer, n_layers\n",
        "\n",
        "  def forward(self, seq, seg):\n",
        "    embed_val = self.embedding(seq, seg)\n",
        "    output = self.encoder_block(embed_val"
      ],
      "metadata": {
        "id": "f7d_DUsCS4s5"
      },
      "execution_count": null,
      "outputs": []
    },
    {
      "cell_type": "code",
      "source": [
        "sample_seq = torch.randint(high=vocab_size, size=[max_len])\n",
        "sample_seg = torch.randint(high=n_segments, size=[max_len])\n",
        "\n",
        "embedding = BERTEmbedding(vocab_size, n_segments, max_len, embedding_dim, n_layers, attn_heads, dropout)\n",
        "embedding_tensor = embedding(sample_seq, sample_seg)\n",
        "\n",
        "print(embedding_tensor.size())"
      ],
      "metadata": {
        "colab": {
          "base_uri": "https://localhost:8080/"
        },
        "id": "2hlVTTEPUrNe",
        "outputId": "34483743-472e-45f7-d949-56b2a43efed3"
      },
      "execution_count": null,
      "outputs": [
        {
          "output_type": "stream",
          "name": "stdout",
          "text": [
            "torch.Size([512, 768])\n"
          ]
        }
      ]
    },
    {
      "cell_type": "code",
      "source": [],
      "metadata": {
        "id": "_TGmq7qWVQmS"
      },
      "execution_count": null,
      "outputs": []
    },
    {
      "cell_type": "markdown",
      "source": [
        "## Coding from scratch"
      ],
      "metadata": {
        "id": "hUyMG51Y2aeh"
      }
    },
    {
      "cell_type": "code",
      "source": [
        "import torch\n",
        "import torch.nn\n",
        "import numpy as np"
      ],
      "metadata": {
        "id": "WrZ_WIwfBby5"
      },
      "execution_count": null,
      "outputs": []
    },
    {
      "cell_type": "code",
      "source": [
        "torch.arange(0, 10, dtype=torch.float).unsqueeze(1)"
      ],
      "metadata": {
        "colab": {
          "base_uri": "https://localhost:8080/"
        },
        "id": "ob0y3SkcE00I",
        "outputId": "e8514694-f138-4094-bb81-515c54ebade2"
      },
      "execution_count": null,
      "outputs": [
        {
          "output_type": "execute_result",
          "data": {
            "text/plain": [
              "tensor([[0.],\n",
              "        [1.],\n",
              "        [2.],\n",
              "        [3.],\n",
              "        [4.],\n",
              "        [5.],\n",
              "        [6.],\n",
              "        [7.],\n",
              "        [8.],\n",
              "        [9.]])"
            ]
          },
          "metadata": {},
          "execution_count": 12
        }
      ]
    },
    {
      "cell_type": "code",
      "source": [],
      "metadata": {
        "id": "EkRa1lMXFC8b"
      },
      "execution_count": null,
      "outputs": []
    },
    {
      "cell_type": "code",
      "source": [
        "class InputEmbeddings(nn.Module):\n",
        "\n",
        "  def __init__(self, d_model: int, vocab_size: int):\n",
        "    super().__init__():\n",
        "    self.d_model = d_model\n",
        "    self.vocab_size = vocab_size\n",
        "    self.embedding = nn.Embedding(vocab_size, d_model)\n",
        "\n",
        "  def forward(self, x):\n",
        "    return self.embedding(x) * np.sqrt(self.d_model) # avoid saturating the softmax\n",
        "\n",
        "\n",
        "class PositionalEncoding(nn.Module):\n",
        "\n",
        "  def __init__(self, d_model: int, dropout: float=.1, seq_len: int=5000):\n",
        "    super().__init__()\n",
        "    self.d_model = d_model\n",
        "    self.seq_len = seq_len\n",
        "    self.dropout = nn.Dropout(dropout)\n",
        "\n",
        "    # shape seq_len, d_model\n",
        "    pe = torch.zeros(self.seq_len, self.d_model)\n",
        "    position = torch.arange(0, self.seq_len, dtype=torch.float).unsqueeze(1)\n",
        "    div_term = torch.exp(torch.arange(0, self.d_model, 2).float() * (-np.log(10000.0) / self.d_model))\n",
        "\n",
        "  def forward(self, x):\n",
        "\n"
      ],
      "metadata": {
        "id": "INd0WPjF2cPq"
      },
      "execution_count": null,
      "outputs": []
    },
    {
      "cell_type": "code",
      "source": [
        "#exploring positon embedding"
      ],
      "metadata": {
        "id": "YUb1DBiqJwa9"
      },
      "execution_count": null,
      "outputs": []
    },
    {
      "cell_type": "code",
      "source": [
        "vocab x seq\n",
        "\n",
        "\n",
        "\n",
        "position = np.arange(0, 100)\n",
        "np.ones((100, 20))\n",
        "\n",
        "pe = position/10000**()\n"
      ],
      "metadata": {
        "id": "2h9vY0JrJzwZ"
      },
      "execution_count": null,
      "outputs": []
    },
    {
      "cell_type": "code",
      "source": [],
      "metadata": {
        "id": "ruBYD1fHkJWM"
      },
      "execution_count": null,
      "outputs": []
    }
  ],
  "metadata": {
    "accelerator": "GPU",
    "colab": {
      "gpuType": "T4",
      "provenance": [],
      "machine_shape": "hm",
      "collapsed_sections": [
        "CaB2M07aS9Q2",
        "SpWSjLl-d2p6",
        "cPLjrqgcdy9O",
        "XlATvsMFwa-0"
      ],
      "authorship_tag": "ABX9TyO16vapl+Aty8FahkPpFBqG",
      "include_colab_link": true
    },
    "kernelspec": {
      "display_name": "Python 3",
      "name": "python3"
    },
    "language_info": {
      "name": "python"
    },
    "widgets": {
      "application/vnd.jupyter.widget-state+json": {
        "aae36a5a839342f8915fb46db1a21d90": {
          "model_module": "@jupyter-widgets/controls",
          "model_name": "HBoxModel",
          "model_module_version": "1.5.0",
          "state": {
            "_dom_classes": [],
            "_model_module": "@jupyter-widgets/controls",
            "_model_module_version": "1.5.0",
            "_model_name": "HBoxModel",
            "_view_count": null,
            "_view_module": "@jupyter-widgets/controls",
            "_view_module_version": "1.5.0",
            "_view_name": "HBoxView",
            "box_style": "",
            "children": [
              "IPY_MODEL_a256372980d94ca6b1f27771cea43701",
              "IPY_MODEL_c87a47cc73114ac0b5896d7a4bda90f4",
              "IPY_MODEL_3f0fb23fffa6441b8081ed04370785b2"
            ],
            "layout": "IPY_MODEL_54c2b432e1dd4bee88767e44c477b6ba"
          }
        },
        "a256372980d94ca6b1f27771cea43701": {
          "model_module": "@jupyter-widgets/controls",
          "model_name": "HTMLModel",
          "model_module_version": "1.5.0",
          "state": {
            "_dom_classes": [],
            "_model_module": "@jupyter-widgets/controls",
            "_model_module_version": "1.5.0",
            "_model_name": "HTMLModel",
            "_view_count": null,
            "_view_module": "@jupyter-widgets/controls",
            "_view_module_version": "1.5.0",
            "_view_name": "HTMLView",
            "description": "",
            "description_tooltip": null,
            "layout": "IPY_MODEL_7c0bfed1a4ba4c0abdd81c2669c6a6a1",
            "placeholder": "​",
            "style": "IPY_MODEL_4489e25d48694c93816e84d8c3b99425",
            "value": "Epoch 9: 100%"
          }
        },
        "c87a47cc73114ac0b5896d7a4bda90f4": {
          "model_module": "@jupyter-widgets/controls",
          "model_name": "FloatProgressModel",
          "model_module_version": "1.5.0",
          "state": {
            "_dom_classes": [],
            "_model_module": "@jupyter-widgets/controls",
            "_model_module_version": "1.5.0",
            "_model_name": "FloatProgressModel",
            "_view_count": null,
            "_view_module": "@jupyter-widgets/controls",
            "_view_module_version": "1.5.0",
            "_view_name": "ProgressView",
            "bar_style": "success",
            "description": "",
            "description_tooltip": null,
            "layout": "IPY_MODEL_c51fc61ae2dc4703b1224d1aec5d38a5",
            "max": 143,
            "min": 0,
            "orientation": "horizontal",
            "style": "IPY_MODEL_b2b1123d23594bf7980718f6182335f5",
            "value": 143
          }
        },
        "3f0fb23fffa6441b8081ed04370785b2": {
          "model_module": "@jupyter-widgets/controls",
          "model_name": "HTMLModel",
          "model_module_version": "1.5.0",
          "state": {
            "_dom_classes": [],
            "_model_module": "@jupyter-widgets/controls",
            "_model_module_version": "1.5.0",
            "_model_name": "HTMLModel",
            "_view_count": null,
            "_view_module": "@jupyter-widgets/controls",
            "_view_module_version": "1.5.0",
            "_view_name": "HTMLView",
            "description": "",
            "description_tooltip": null,
            "layout": "IPY_MODEL_e56de0bd85a843ecb7595b66b7839515",
            "placeholder": "​",
            "style": "IPY_MODEL_0f9428b3f9d74bca9a736ffd88fa9c12",
            "value": " 143/143 [00:03&lt;00:00, 37.16it/s, v_num=0, train_loss_step=0.316, train_loss_epoch=0.316]"
          }
        },
        "54c2b432e1dd4bee88767e44c477b6ba": {
          "model_module": "@jupyter-widgets/base",
          "model_name": "LayoutModel",
          "model_module_version": "1.2.0",
          "state": {
            "_model_module": "@jupyter-widgets/base",
            "_model_module_version": "1.2.0",
            "_model_name": "LayoutModel",
            "_view_count": null,
            "_view_module": "@jupyter-widgets/base",
            "_view_module_version": "1.2.0",
            "_view_name": "LayoutView",
            "align_content": null,
            "align_items": null,
            "align_self": null,
            "border": null,
            "bottom": null,
            "display": "inline-flex",
            "flex": null,
            "flex_flow": "row wrap",
            "grid_area": null,
            "grid_auto_columns": null,
            "grid_auto_flow": null,
            "grid_auto_rows": null,
            "grid_column": null,
            "grid_gap": null,
            "grid_row": null,
            "grid_template_areas": null,
            "grid_template_columns": null,
            "grid_template_rows": null,
            "height": null,
            "justify_content": null,
            "justify_items": null,
            "left": null,
            "margin": null,
            "max_height": null,
            "max_width": null,
            "min_height": null,
            "min_width": null,
            "object_fit": null,
            "object_position": null,
            "order": null,
            "overflow": null,
            "overflow_x": null,
            "overflow_y": null,
            "padding": null,
            "right": null,
            "top": null,
            "visibility": null,
            "width": "100%"
          }
        },
        "7c0bfed1a4ba4c0abdd81c2669c6a6a1": {
          "model_module": "@jupyter-widgets/base",
          "model_name": "LayoutModel",
          "model_module_version": "1.2.0",
          "state": {
            "_model_module": "@jupyter-widgets/base",
            "_model_module_version": "1.2.0",
            "_model_name": "LayoutModel",
            "_view_count": null,
            "_view_module": "@jupyter-widgets/base",
            "_view_module_version": "1.2.0",
            "_view_name": "LayoutView",
            "align_content": null,
            "align_items": null,
            "align_self": null,
            "border": null,
            "bottom": null,
            "display": null,
            "flex": null,
            "flex_flow": null,
            "grid_area": null,
            "grid_auto_columns": null,
            "grid_auto_flow": null,
            "grid_auto_rows": null,
            "grid_column": null,
            "grid_gap": null,
            "grid_row": null,
            "grid_template_areas": null,
            "grid_template_columns": null,
            "grid_template_rows": null,
            "height": null,
            "justify_content": null,
            "justify_items": null,
            "left": null,
            "margin": null,
            "max_height": null,
            "max_width": null,
            "min_height": null,
            "min_width": null,
            "object_fit": null,
            "object_position": null,
            "order": null,
            "overflow": null,
            "overflow_x": null,
            "overflow_y": null,
            "padding": null,
            "right": null,
            "top": null,
            "visibility": null,
            "width": null
          }
        },
        "4489e25d48694c93816e84d8c3b99425": {
          "model_module": "@jupyter-widgets/controls",
          "model_name": "DescriptionStyleModel",
          "model_module_version": "1.5.0",
          "state": {
            "_model_module": "@jupyter-widgets/controls",
            "_model_module_version": "1.5.0",
            "_model_name": "DescriptionStyleModel",
            "_view_count": null,
            "_view_module": "@jupyter-widgets/base",
            "_view_module_version": "1.2.0",
            "_view_name": "StyleView",
            "description_width": ""
          }
        },
        "c51fc61ae2dc4703b1224d1aec5d38a5": {
          "model_module": "@jupyter-widgets/base",
          "model_name": "LayoutModel",
          "model_module_version": "1.2.0",
          "state": {
            "_model_module": "@jupyter-widgets/base",
            "_model_module_version": "1.2.0",
            "_model_name": "LayoutModel",
            "_view_count": null,
            "_view_module": "@jupyter-widgets/base",
            "_view_module_version": "1.2.0",
            "_view_name": "LayoutView",
            "align_content": null,
            "align_items": null,
            "align_self": null,
            "border": null,
            "bottom": null,
            "display": null,
            "flex": "2",
            "flex_flow": null,
            "grid_area": null,
            "grid_auto_columns": null,
            "grid_auto_flow": null,
            "grid_auto_rows": null,
            "grid_column": null,
            "grid_gap": null,
            "grid_row": null,
            "grid_template_areas": null,
            "grid_template_columns": null,
            "grid_template_rows": null,
            "height": null,
            "justify_content": null,
            "justify_items": null,
            "left": null,
            "margin": null,
            "max_height": null,
            "max_width": null,
            "min_height": null,
            "min_width": null,
            "object_fit": null,
            "object_position": null,
            "order": null,
            "overflow": null,
            "overflow_x": null,
            "overflow_y": null,
            "padding": null,
            "right": null,
            "top": null,
            "visibility": null,
            "width": null
          }
        },
        "b2b1123d23594bf7980718f6182335f5": {
          "model_module": "@jupyter-widgets/controls",
          "model_name": "ProgressStyleModel",
          "model_module_version": "1.5.0",
          "state": {
            "_model_module": "@jupyter-widgets/controls",
            "_model_module_version": "1.5.0",
            "_model_name": "ProgressStyleModel",
            "_view_count": null,
            "_view_module": "@jupyter-widgets/base",
            "_view_module_version": "1.2.0",
            "_view_name": "StyleView",
            "bar_color": null,
            "description_width": ""
          }
        },
        "e56de0bd85a843ecb7595b66b7839515": {
          "model_module": "@jupyter-widgets/base",
          "model_name": "LayoutModel",
          "model_module_version": "1.2.0",
          "state": {
            "_model_module": "@jupyter-widgets/base",
            "_model_module_version": "1.2.0",
            "_model_name": "LayoutModel",
            "_view_count": null,
            "_view_module": "@jupyter-widgets/base",
            "_view_module_version": "1.2.0",
            "_view_name": "LayoutView",
            "align_content": null,
            "align_items": null,
            "align_self": null,
            "border": null,
            "bottom": null,
            "display": null,
            "flex": null,
            "flex_flow": null,
            "grid_area": null,
            "grid_auto_columns": null,
            "grid_auto_flow": null,
            "grid_auto_rows": null,
            "grid_column": null,
            "grid_gap": null,
            "grid_row": null,
            "grid_template_areas": null,
            "grid_template_columns": null,
            "grid_template_rows": null,
            "height": null,
            "justify_content": null,
            "justify_items": null,
            "left": null,
            "margin": null,
            "max_height": null,
            "max_width": null,
            "min_height": null,
            "min_width": null,
            "object_fit": null,
            "object_position": null,
            "order": null,
            "overflow": null,
            "overflow_x": null,
            "overflow_y": null,
            "padding": null,
            "right": null,
            "top": null,
            "visibility": null,
            "width": null
          }
        },
        "0f9428b3f9d74bca9a736ffd88fa9c12": {
          "model_module": "@jupyter-widgets/controls",
          "model_name": "DescriptionStyleModel",
          "model_module_version": "1.5.0",
          "state": {
            "_model_module": "@jupyter-widgets/controls",
            "_model_module_version": "1.5.0",
            "_model_name": "DescriptionStyleModel",
            "_view_count": null,
            "_view_module": "@jupyter-widgets/base",
            "_view_module_version": "1.2.0",
            "_view_name": "StyleView",
            "description_width": ""
          }
        },
        "32e949f5d9e04a109941402a9267b6be": {
          "model_module": "@jupyter-widgets/controls",
          "model_name": "HBoxModel",
          "model_module_version": "1.5.0",
          "state": {
            "_dom_classes": [],
            "_model_module": "@jupyter-widgets/controls",
            "_model_module_version": "1.5.0",
            "_model_name": "HBoxModel",
            "_view_count": null,
            "_view_module": "@jupyter-widgets/controls",
            "_view_module_version": "1.5.0",
            "_view_name": "HBoxView",
            "box_style": "",
            "children": [
              "IPY_MODEL_7bc0ad12ab66408bb4fdf9abeea83670",
              "IPY_MODEL_4c1fe706b66f4147a579ea3e2187d096",
              "IPY_MODEL_f2c160a40b674379ab379dc8c14cd3a6"
            ],
            "layout": "IPY_MODEL_9b93c3ac3aab45bc9d10835a078e2ce7"
          }
        },
        "7bc0ad12ab66408bb4fdf9abeea83670": {
          "model_module": "@jupyter-widgets/controls",
          "model_name": "HTMLModel",
          "model_module_version": "1.5.0",
          "state": {
            "_dom_classes": [],
            "_model_module": "@jupyter-widgets/controls",
            "_model_module_version": "1.5.0",
            "_model_name": "HTMLModel",
            "_view_count": null,
            "_view_module": "@jupyter-widgets/controls",
            "_view_module_version": "1.5.0",
            "_view_name": "HTMLView",
            "description": "",
            "description_tooltip": null,
            "layout": "IPY_MODEL_83da240de1ac4550847710c104e7b376",
            "placeholder": "​",
            "style": "IPY_MODEL_01159297bd6b40088702949a5b276d9c",
            "value": "Epoch 0:   0%"
          }
        },
        "4c1fe706b66f4147a579ea3e2187d096": {
          "model_module": "@jupyter-widgets/controls",
          "model_name": "FloatProgressModel",
          "model_module_version": "1.5.0",
          "state": {
            "_dom_classes": [],
            "_model_module": "@jupyter-widgets/controls",
            "_model_module_version": "1.5.0",
            "_model_name": "FloatProgressModel",
            "_view_count": null,
            "_view_module": "@jupyter-widgets/controls",
            "_view_module_version": "1.5.0",
            "_view_name": "ProgressView",
            "bar_style": "",
            "description": "",
            "description_tooltip": null,
            "layout": "IPY_MODEL_240c3445c0f146b5a9f47a41d04faeb4",
            "max": 191,
            "min": 0,
            "orientation": "horizontal",
            "style": "IPY_MODEL_7a2306102c594ae899be2c62a1bcc5c4",
            "value": 0
          }
        },
        "f2c160a40b674379ab379dc8c14cd3a6": {
          "model_module": "@jupyter-widgets/controls",
          "model_name": "HTMLModel",
          "model_module_version": "1.5.0",
          "state": {
            "_dom_classes": [],
            "_model_module": "@jupyter-widgets/controls",
            "_model_module_version": "1.5.0",
            "_model_name": "HTMLModel",
            "_view_count": null,
            "_view_module": "@jupyter-widgets/controls",
            "_view_module_version": "1.5.0",
            "_view_name": "HTMLView",
            "description": "",
            "description_tooltip": null,
            "layout": "IPY_MODEL_cd3db025180d4fa39e799b81ab33d1db",
            "placeholder": "​",
            "style": "IPY_MODEL_459059138a0c4a8680b2a3d9e677d51b",
            "value": " 0/191 [00:00&lt;?, ?it/s]"
          }
        },
        "9b93c3ac3aab45bc9d10835a078e2ce7": {
          "model_module": "@jupyter-widgets/base",
          "model_name": "LayoutModel",
          "model_module_version": "1.2.0",
          "state": {
            "_model_module": "@jupyter-widgets/base",
            "_model_module_version": "1.2.0",
            "_model_name": "LayoutModel",
            "_view_count": null,
            "_view_module": "@jupyter-widgets/base",
            "_view_module_version": "1.2.0",
            "_view_name": "LayoutView",
            "align_content": null,
            "align_items": null,
            "align_self": null,
            "border": null,
            "bottom": null,
            "display": "inline-flex",
            "flex": null,
            "flex_flow": "row wrap",
            "grid_area": null,
            "grid_auto_columns": null,
            "grid_auto_flow": null,
            "grid_auto_rows": null,
            "grid_column": null,
            "grid_gap": null,
            "grid_row": null,
            "grid_template_areas": null,
            "grid_template_columns": null,
            "grid_template_rows": null,
            "height": null,
            "justify_content": null,
            "justify_items": null,
            "left": null,
            "margin": null,
            "max_height": null,
            "max_width": null,
            "min_height": null,
            "min_width": null,
            "object_fit": null,
            "object_position": null,
            "order": null,
            "overflow": null,
            "overflow_x": null,
            "overflow_y": null,
            "padding": null,
            "right": null,
            "top": null,
            "visibility": null,
            "width": "100%"
          }
        },
        "83da240de1ac4550847710c104e7b376": {
          "model_module": "@jupyter-widgets/base",
          "model_name": "LayoutModel",
          "model_module_version": "1.2.0",
          "state": {
            "_model_module": "@jupyter-widgets/base",
            "_model_module_version": "1.2.0",
            "_model_name": "LayoutModel",
            "_view_count": null,
            "_view_module": "@jupyter-widgets/base",
            "_view_module_version": "1.2.0",
            "_view_name": "LayoutView",
            "align_content": null,
            "align_items": null,
            "align_self": null,
            "border": null,
            "bottom": null,
            "display": null,
            "flex": null,
            "flex_flow": null,
            "grid_area": null,
            "grid_auto_columns": null,
            "grid_auto_flow": null,
            "grid_auto_rows": null,
            "grid_column": null,
            "grid_gap": null,
            "grid_row": null,
            "grid_template_areas": null,
            "grid_template_columns": null,
            "grid_template_rows": null,
            "height": null,
            "justify_content": null,
            "justify_items": null,
            "left": null,
            "margin": null,
            "max_height": null,
            "max_width": null,
            "min_height": null,
            "min_width": null,
            "object_fit": null,
            "object_position": null,
            "order": null,
            "overflow": null,
            "overflow_x": null,
            "overflow_y": null,
            "padding": null,
            "right": null,
            "top": null,
            "visibility": null,
            "width": null
          }
        },
        "01159297bd6b40088702949a5b276d9c": {
          "model_module": "@jupyter-widgets/controls",
          "model_name": "DescriptionStyleModel",
          "model_module_version": "1.5.0",
          "state": {
            "_model_module": "@jupyter-widgets/controls",
            "_model_module_version": "1.5.0",
            "_model_name": "DescriptionStyleModel",
            "_view_count": null,
            "_view_module": "@jupyter-widgets/base",
            "_view_module_version": "1.2.0",
            "_view_name": "StyleView",
            "description_width": ""
          }
        },
        "240c3445c0f146b5a9f47a41d04faeb4": {
          "model_module": "@jupyter-widgets/base",
          "model_name": "LayoutModel",
          "model_module_version": "1.2.0",
          "state": {
            "_model_module": "@jupyter-widgets/base",
            "_model_module_version": "1.2.0",
            "_model_name": "LayoutModel",
            "_view_count": null,
            "_view_module": "@jupyter-widgets/base",
            "_view_module_version": "1.2.0",
            "_view_name": "LayoutView",
            "align_content": null,
            "align_items": null,
            "align_self": null,
            "border": null,
            "bottom": null,
            "display": null,
            "flex": "2",
            "flex_flow": null,
            "grid_area": null,
            "grid_auto_columns": null,
            "grid_auto_flow": null,
            "grid_auto_rows": null,
            "grid_column": null,
            "grid_gap": null,
            "grid_row": null,
            "grid_template_areas": null,
            "grid_template_columns": null,
            "grid_template_rows": null,
            "height": null,
            "justify_content": null,
            "justify_items": null,
            "left": null,
            "margin": null,
            "max_height": null,
            "max_width": null,
            "min_height": null,
            "min_width": null,
            "object_fit": null,
            "object_position": null,
            "order": null,
            "overflow": null,
            "overflow_x": null,
            "overflow_y": null,
            "padding": null,
            "right": null,
            "top": null,
            "visibility": null,
            "width": null
          }
        },
        "7a2306102c594ae899be2c62a1bcc5c4": {
          "model_module": "@jupyter-widgets/controls",
          "model_name": "ProgressStyleModel",
          "model_module_version": "1.5.0",
          "state": {
            "_model_module": "@jupyter-widgets/controls",
            "_model_module_version": "1.5.0",
            "_model_name": "ProgressStyleModel",
            "_view_count": null,
            "_view_module": "@jupyter-widgets/base",
            "_view_module_version": "1.2.0",
            "_view_name": "StyleView",
            "bar_color": null,
            "description_width": ""
          }
        },
        "cd3db025180d4fa39e799b81ab33d1db": {
          "model_module": "@jupyter-widgets/base",
          "model_name": "LayoutModel",
          "model_module_version": "1.2.0",
          "state": {
            "_model_module": "@jupyter-widgets/base",
            "_model_module_version": "1.2.0",
            "_model_name": "LayoutModel",
            "_view_count": null,
            "_view_module": "@jupyter-widgets/base",
            "_view_module_version": "1.2.0",
            "_view_name": "LayoutView",
            "align_content": null,
            "align_items": null,
            "align_self": null,
            "border": null,
            "bottom": null,
            "display": null,
            "flex": null,
            "flex_flow": null,
            "grid_area": null,
            "grid_auto_columns": null,
            "grid_auto_flow": null,
            "grid_auto_rows": null,
            "grid_column": null,
            "grid_gap": null,
            "grid_row": null,
            "grid_template_areas": null,
            "grid_template_columns": null,
            "grid_template_rows": null,
            "height": null,
            "justify_content": null,
            "justify_items": null,
            "left": null,
            "margin": null,
            "max_height": null,
            "max_width": null,
            "min_height": null,
            "min_width": null,
            "object_fit": null,
            "object_position": null,
            "order": null,
            "overflow": null,
            "overflow_x": null,
            "overflow_y": null,
            "padding": null,
            "right": null,
            "top": null,
            "visibility": null,
            "width": null
          }
        },
        "459059138a0c4a8680b2a3d9e677d51b": {
          "model_module": "@jupyter-widgets/controls",
          "model_name": "DescriptionStyleModel",
          "model_module_version": "1.5.0",
          "state": {
            "_model_module": "@jupyter-widgets/controls",
            "_model_module_version": "1.5.0",
            "_model_name": "DescriptionStyleModel",
            "_view_count": null,
            "_view_module": "@jupyter-widgets/base",
            "_view_module_version": "1.2.0",
            "_view_name": "StyleView",
            "description_width": ""
          }
        }
      }
    }
  },
  "nbformat": 4,
  "nbformat_minor": 0
}